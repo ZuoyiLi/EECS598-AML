{
  "nbformat": 4,
  "nbformat_minor": 0,
  "metadata": {
    "colab": {
      "name": "Copy of Mitigating Unwanted Biases in Word Embeddings with Adversarial Learning.ipynb",
      "provenance": [],
      "collapsed_sections": [],
      "toc_visible": true
    },
    "kernelspec": {
      "display_name": "Python 2",
      "name": "python2"
    }
  },
  "cells": [
    {
      "cell_type": "markdown",
      "metadata": {
        "id": "JndnmDMp66FL"
      },
      "source": [
        "#### Copyright 2018 Google LLC\n",
        "\n",
        "This library is free software; you can redistribute it and/or\n",
        "modify it under the terms of the GNU Lesser General Public\n",
        "License as published by the Free Software Foundation; either\n",
        "version 2.1 of the License, or (at your option) any later version.\n",
        "\n"
      ]
    },
    {
      "cell_type": "code",
      "metadata": {
        "cellView": "both",
        "id": "hMqWDc_m6rUC"
      },
      "source": [
        "# This library is free software; you can redistribute it and/or\n",
        "# modify it under the terms of the GNU Lesser General Public\n",
        "# License as published by the Free Software Foundation; either\n",
        "# version 2.1 of the License, or (at your option) any later version.\n",
        "# \n",
        "# This library is distributed in the hope that it will be useful,\n",
        "# but WITHOUT ANY WARRANTY; without even the implied warranty of\n",
        "# MERCHANTABILITY or FITNESS FOR A PARTICULAR PURPOSE. See the GNU\n",
        "# Lesser General Public License for more details.\n",
        "# \n",
        "# You should have received a copy of the GNU Lesser General Public\n",
        "# License along with this library; if not, write to the Free Software\n",
        "# Foundation, Inc., 51 Franklin Street, Fifth Floor, Boston, MA 02110-1301, USA"
      ],
      "execution_count": null,
      "outputs": []
    },
    {
      "cell_type": "markdown",
      "metadata": {
        "id": "EuA1RKib8_98"
      },
      "source": [
        "# Mitigating Unwanted Biases with Adversarial Learning\n",
        "\n",
        "Authors: Andrew Zaldivar, Ben Hutchinson, Blake Lemoine, Brian Zhang, Margaret Mitchell\n",
        "\n",
        "---"
      ]
    },
    {
      "cell_type": "markdown",
      "metadata": {
        "id": "1x0PRJii9C33"
      },
      "source": [
        "## Summary of this Notebook\n",
        "\n",
        "This notebook is a guide to the paper ([archiv](https://arxiv.org/pdf/1801.07593.pdf))\n",
        "\n",
        "> ```Brian Zhang, Blake Lemoine and Margaret Mitchell. Mitigating Unwanted Biases with Adversarial Learning. AAAI Conference on AI, Ethics and Society, 2018.```\n",
        "\n"
      ]
    },
    {
      "cell_type": "markdown",
      "metadata": {
        "id": "8BnQsDuO9FSt"
      },
      "source": [
        "## Intro statement of problem\n",
        "\n",
        "Embeddings are a powerful mechanism for projecting a discrete variable (e.g. words, locales, urls) into a multi-dimensional real valued space.  Several strong methods have been developed for learning embeddings.  One example is the [Skipgram](http://www.cs.brandeis.edu/~marc/misc/proceedings/lrec-2006/pdf/357_pdf.pdf) algorithm.  In that algorithm the surrounding context is used to predict the presence of a word.  Unfortunately, much real world textual data has subtle bias that machine learning algorithms will implicitly include in the embeddings created from that data.  This bias can be illustrated by performing a word analogy task using the learned embeddings.\n",
        "\n",
        "It is worth noting that the usages of terms like _fair_ and _bias_ are used in this notebook in the context of a particular definition of fairness sometimes referred to as \"Demographic Parity\" or \"Equality of Outcomes\" ([Hardt et. al 2016](http://papers.nips.cc/paper/6373-equality-of-opportunity-in-supervised-learning)).  This definition of fairness effectively says that any relationship at all between a variable of interest and a _protected variable_ is an example of unwanted bias.  Other definitions of fairness such as \"Equality of Odds\" can be employed when there is believed to be some form of proper relationship between the variable of interest and the protected variable.  However, all uses of _fair_ and _bias_ here should be interpreted in the context of \"Demographic Parity\".\n"
      ]
    },
    {
      "cell_type": "markdown",
      "metadata": {
        "id": "G50xVJvB92z9"
      },
      "source": [
        "First, we'll import all the packages that we'll need."
      ]
    },
    {
      "cell_type": "code",
      "metadata": {
        "id": "gOrI3fGc87cz",
        "colab": {
          "base_uri": "https://localhost:8080/"
        },
        "outputId": "c8b0b5e7-a9de-4d66-896b-f5c229b99371"
      },
      "source": [
        "!pip install -U gensim~=3.2.0\n",
        "import gensim\n",
        "import gzip\n",
        "import numpy as np\n",
        "import os\n",
        "import pandas as pd\n",
        "!pip install --upgrade-strategy=only-if-needed tensorflow~=1.6.0rc0\n",
        "import tensorflow as tf"
      ],
      "execution_count": null,
      "outputs": [
        {
          "output_type": "stream",
          "text": [
            "Requirement already up-to-date: gensim~=3.2.0 in /usr/local/lib/python2.7/dist-packages (3.2.0)\n",
            "Requirement already satisfied, skipping upgrade: smart-open>=1.2.1 in /usr/local/lib/python2.7/dist-packages (from gensim~=3.2.0) (1.8.4)\n",
            "Requirement already satisfied, skipping upgrade: six>=1.5.0 in /usr/local/lib/python2.7/dist-packages (from gensim~=3.2.0) (1.15.0)\n",
            "Requirement already satisfied, skipping upgrade: scipy>=0.18.1 in /usr/local/lib/python2.7/dist-packages (from gensim~=3.2.0) (1.2.2)\n",
            "Requirement already satisfied, skipping upgrade: numpy>=1.11.3 in /usr/local/lib/python2.7/dist-packages (from gensim~=3.2.0) (1.16.4)\n",
            "Requirement already satisfied, skipping upgrade: bz2file in /usr/local/lib/python2.7/dist-packages (from smart-open>=1.2.1->gensim~=3.2.0) (0.98)\n",
            "Requirement already satisfied, skipping upgrade: boto>=2.32 in /usr/local/lib/python2.7/dist-packages (from smart-open>=1.2.1->gensim~=3.2.0) (2.49.0)\n",
            "Requirement already satisfied, skipping upgrade: requests in /usr/local/lib/python2.7/dist-packages (from smart-open>=1.2.1->gensim~=3.2.0) (2.23.0)\n",
            "Requirement already satisfied, skipping upgrade: boto3 in /usr/local/lib/python2.7/dist-packages (from smart-open>=1.2.1->gensim~=3.2.0) (1.9.189)\n",
            "Requirement already satisfied, skipping upgrade: urllib3!=1.25.0,!=1.25.1,<1.26,>=1.21.1 in /usr/local/lib/python2.7/dist-packages (from requests->smart-open>=1.2.1->gensim~=3.2.0) (1.24.3)\n",
            "Requirement already satisfied, skipping upgrade: chardet<4,>=3.0.2 in /usr/local/lib/python2.7/dist-packages (from requests->smart-open>=1.2.1->gensim~=3.2.0) (3.0.4)\n",
            "Requirement already satisfied, skipping upgrade: certifi>=2017.4.17 in /usr/local/lib/python2.7/dist-packages (from requests->smart-open>=1.2.1->gensim~=3.2.0) (2019.6.16)\n",
            "Requirement already satisfied, skipping upgrade: idna<3,>=2.5 in /usr/local/lib/python2.7/dist-packages (from requests->smart-open>=1.2.1->gensim~=3.2.0) (2.8)\n",
            "Requirement already satisfied, skipping upgrade: jmespath<1.0.0,>=0.7.1 in /usr/local/lib/python2.7/dist-packages (from boto3->smart-open>=1.2.1->gensim~=3.2.0) (0.9.4)\n",
            "Requirement already satisfied, skipping upgrade: botocore<1.13.0,>=1.12.189 in /usr/local/lib/python2.7/dist-packages (from boto3->smart-open>=1.2.1->gensim~=3.2.0) (1.12.189)\n",
            "Requirement already satisfied, skipping upgrade: s3transfer<0.3.0,>=0.2.0 in /usr/local/lib/python2.7/dist-packages (from boto3->smart-open>=1.2.1->gensim~=3.2.0) (0.2.1)\n",
            "Requirement already satisfied, skipping upgrade: docutils>=0.10 in /usr/local/lib/python2.7/dist-packages (from botocore<1.13.0,>=1.12.189->boto3->smart-open>=1.2.1->gensim~=3.2.0) (0.14)\n",
            "Requirement already satisfied, skipping upgrade: python-dateutil<3.0.0,>=2.1; python_version >= \"2.7\" in /usr/local/lib/python2.7/dist-packages (from botocore<1.13.0,>=1.12.189->boto3->smart-open>=1.2.1->gensim~=3.2.0) (2.5.3)\n",
            "Requirement already satisfied, skipping upgrade: futures<4.0.0,>=2.2.0; python_version == \"2.6\" or python_version == \"2.7\" in /usr/local/lib/python2.7/dist-packages (from s3transfer<0.3.0,>=0.2.0->boto3->smart-open>=1.2.1->gensim~=3.2.0) (3.2.0)\n",
            "Requirement already satisfied: tensorflow~=1.6.0rc0 in /usr/local/lib/python2.7/dist-packages (1.6.0)\n",
            "Requirement already satisfied: grpcio>=1.8.6 in /usr/local/lib/python2.7/dist-packages (from tensorflow~=1.6.0rc0) (1.15.0)\n",
            "Requirement already satisfied: mock>=2.0.0 in /usr/local/lib/python2.7/dist-packages (from tensorflow~=1.6.0rc0) (2.0.0)\n",
            "Requirement already satisfied: tensorboard<1.7.0,>=1.6.0 in /usr/local/lib/python2.7/dist-packages (from tensorflow~=1.6.0rc0) (1.6.0)\n",
            "Requirement already satisfied: protobuf>=3.4.0 in /usr/local/lib/python2.7/dist-packages (from tensorflow~=1.6.0rc0) (3.8.0)\n",
            "Requirement already satisfied: gast>=0.2.0 in /usr/local/lib/python2.7/dist-packages (from tensorflow~=1.6.0rc0) (0.2.2)\n",
            "Requirement already satisfied: wheel in /usr/local/lib/python2.7/dist-packages (from tensorflow~=1.6.0rc0) (0.36.2)\n",
            "Requirement already satisfied: absl-py>=0.1.6 in /usr/local/lib/python2.7/dist-packages (from tensorflow~=1.6.0rc0) (0.7.1)\n",
            "Requirement already satisfied: backports.weakref>=1.0rc1 in /usr/local/lib/python2.7/dist-packages (from tensorflow~=1.6.0rc0) (1.0.post1)\n",
            "Requirement already satisfied: enum34>=1.1.6 in /usr/local/lib/python2.7/dist-packages (from tensorflow~=1.6.0rc0) (1.1.6)\n",
            "Requirement already satisfied: six>=1.10.0 in /usr/local/lib/python2.7/dist-packages (from tensorflow~=1.6.0rc0) (1.15.0)\n",
            "Requirement already satisfied: numpy>=1.13.3 in /usr/local/lib/python2.7/dist-packages (from tensorflow~=1.6.0rc0) (1.16.4)\n",
            "Requirement already satisfied: termcolor>=1.1.0 in /usr/local/lib/python2.7/dist-packages (from tensorflow~=1.6.0rc0) (1.1.0)\n",
            "Requirement already satisfied: astor>=0.6.0 in /usr/local/lib/python2.7/dist-packages (from tensorflow~=1.6.0rc0) (0.8.1)\n",
            "Requirement already satisfied: futures>=2.2.0 in /usr/local/lib/python2.7/dist-packages (from grpcio>=1.8.6->tensorflow~=1.6.0rc0) (3.2.0)\n",
            "Requirement already satisfied: funcsigs>=1; python_version < \"3.3\" in /usr/local/lib/python2.7/dist-packages (from mock>=2.0.0->tensorflow~=1.6.0rc0) (1.0.2)\n",
            "Requirement already satisfied: pbr>=0.11 in /usr/local/lib/python2.7/dist-packages (from mock>=2.0.0->tensorflow~=1.6.0rc0) (5.4.0)\n",
            "Requirement already satisfied: bleach==1.5.0 in /usr/local/lib/python2.7/dist-packages (from tensorboard<1.7.0,>=1.6.0->tensorflow~=1.6.0rc0) (1.5.0)\n",
            "Requirement already satisfied: html5lib==0.9999999 in /usr/local/lib/python2.7/dist-packages (from tensorboard<1.7.0,>=1.6.0->tensorflow~=1.6.0rc0) (0.9999999)\n",
            "Requirement already satisfied: werkzeug>=0.11.10 in /usr/local/lib/python2.7/dist-packages (from tensorboard<1.7.0,>=1.6.0->tensorflow~=1.6.0rc0) (0.15.5)\n",
            "Requirement already satisfied: markdown>=2.6.8 in /usr/local/lib/python2.7/dist-packages (from tensorboard<1.7.0,>=1.6.0->tensorflow~=1.6.0rc0) (3.1.1)\n",
            "Requirement already satisfied: setuptools in /usr/local/lib/python2.7/dist-packages (from protobuf>=3.4.0->tensorflow~=1.6.0rc0) (44.1.1)\n"
          ],
          "name": "stdout"
        }
      ]
    },
    {
      "cell_type": "markdown",
      "metadata": {
        "id": "xS2yD-bQIdJp"
      },
      "source": [
        "First let's copy the required data files from Google Cloud Storage to a local directory.\n",
        "\n",
        "To do this we'll first need to authenticate to Google Cloud Storage. Executing the following cell will generate a link which you'll need to follow to get a verification code."
      ]
    },
    {
      "cell_type": "code",
      "metadata": {
        "id": "9tOKeaUe9Uoo"
      },
      "source": [
        "from google.colab import auth\n",
        "auth.authenticate_user()"
      ],
      "execution_count": null,
      "outputs": []
    },
    {
      "cell_type": "markdown",
      "metadata": {
        "id": "qrGSp0fA9W8B"
      },
      "source": [
        "Now we'll sync the data for the colab to a tmp directory from Google Cloud Storage."
      ]
    },
    {
      "cell_type": "code",
      "metadata": {
        "id": "F_B4Madl_5xp",
        "colab": {
          "base_uri": "https://localhost:8080/"
        },
        "outputId": "10b82b1e-0fce-4fa5-8631-c500897546cf"
      },
      "source": [
        "project_id = 'mledu-fairness'\n",
        "!gcloud config set project {project_id}\n",
        "\n",
        "gcs_bucket_name = 'mledu-fairness/colabs/debias_word_embeddings'\n",
        "local_dir_name = 'tmp/debias_word_embeddings'\n",
        "if not os.path.exists(local_dir_name):\n",
        "  print \"creating dir %s\" % local_dir_name\n",
        "  !mkdir {local_dir_name}\n",
        "  \n",
        "!gsutil rsync gs://{gcs_bucket_name} {local_dir_name}\n",
        "\n",
        "!ls -al {local_dir_name}  \n",
        "\n",
        "WORD2VEC_FILE = os.path.join(local_dir_name, \"GoogleNews-vectors-negative300.bin.gz\")\n",
        "ANALOGIES_FILE = os.path.join(local_dir_name, \"questions-words.txt\")\n"
      ],
      "execution_count": null,
      "outputs": [
        {
          "output_type": "stream",
          "text": [
            "Updated property [core/project].\n",
            "\u001b[1;33mWARNING:\u001b[0m You do not appear to have access to project [mledu-fairness] or it does not exist.\n",
            "BucketNotFoundException: 404 gs://mledu-fairness bucket does not exist.\n",
            "total 1609052\n",
            "drwxr-xr-x 3 root root       4096 Apr  5 00:50 .\n",
            "drwxr-xr-x 4 root root       4096 Apr  5 00:24 ..\n",
            "-rw-r--r-- 1 root root 1647046227 Apr  5 00:44 GoogleNews-vectors-negative300.bin.gz\n",
            "drwxr-xr-x 2 root root       4096 Apr  5 00:48 .ipynb_checkpoints\n",
            "-rw-r--r-- 1 root root     603955 Apr  5 00:24 questions-words.txt\n"
          ],
          "name": "stdout"
        }
      ]
    },
    {
      "cell_type": "code",
      "metadata": {
        "id": "ztVqGJ8xGF1b"
      },
      "source": [
        "def load_word2vec_format(f, max_num_words=None):\n",
        "  \"\"\"Loads word2vec data from a file handle.\n",
        "\n",
        "  Similar to gensim.models.keyedvectors.KeyedVectors.load_word2vec_format\n",
        "  but takes a file handle as input rather than a filename. This lets us use\n",
        "  GFile. Also only accepts binary files.\n",
        "\n",
        "  Args:\n",
        "    f: file handle\n",
        "    max_num_words: number of words to load. If None, load all.\n",
        "\n",
        "  Returns:\n",
        "    Word2vec data as keyedvectors.EuclideanKeyedVectors.\n",
        "  \"\"\"\n",
        "  header = f.readline()\n",
        "  vocab_size, vector_size = (\n",
        "      int(x) for x in header.rstrip().split())  # throws for invalid file format\n",
        "  print \"vector_size =  %d\" % vector_size\n",
        "  result = gensim.models.keyedvectors.EuclideanKeyedVectors()\n",
        "  num_words = 0\n",
        "  result.vector_size = vector_size\n",
        "  result.syn0 = np.zeros((vocab_size, vector_size), dtype=np.float32)\n",
        "  \n",
        "  def add_word(word, weights):\n",
        "    word_id = len(result.vocab)\n",
        "    if word in result.vocab:\n",
        "      print(\"duplicate word '%s', ignoring all but first\", word)\n",
        "      return\n",
        "    result.vocab[word] = gensim.models.keyedvectors.Vocab(\n",
        "        index=word_id, count=vocab_size - word_id)\n",
        "    result.syn0[word_id] = weights\n",
        "    result.index2word.append(word)\n",
        "\n",
        "  if max_num_words and max_num_words < vocab_size:\n",
        "    num_embeddings = max_num_words\n",
        "  else:\n",
        "    num_embeddings = vocab_size\n",
        "  print \"Loading %d embeddings\" % num_embeddings\n",
        "  \n",
        "  binary_len = np.dtype(np.float32).itemsize * vector_size\n",
        "  for _ in xrange(vocab_size):\n",
        "    # mixed text and binary: read text first, then binary\n",
        "    word = []\n",
        "    while True:\n",
        "      ch = f.read(1)\n",
        "      if ch == b' ':\n",
        "        break\n",
        "      if ch == b'':\n",
        "        raise EOFError(\"unexpected end of input; is count incorrect or file otherwise damaged?\")\n",
        "      if ch != b'\\n':  # ignore newlines in front of words (some binary files have)\n",
        "        word.append(ch)\n",
        "    word = gensim.utils.to_unicode(b''.join(word), encoding='utf-8', errors='strict')\n",
        "    weights = np.frombuffer(f.read(binary_len), dtype=np.float32)\n",
        "    add_word(word, weights)\n",
        "    num_words = num_words + 1\n",
        "    if max_num_words and num_words == max_num_words:\n",
        "      break\n",
        "  if result.syn0.shape[0] != len(result.vocab):\n",
        "    print(\n",
        "        \"duplicate words detected, shrinking matrix size from %i to %i\",\n",
        "        result.syn0.shape[0], len(result.vocab))\n",
        "  result.syn0 = np.ascontiguousarray(result.syn0[:len(result.vocab)])\n",
        "  assert (len(result.vocab), vector_size) == result.syn0.shape\n",
        "\n",
        "  print(\"loaded %s matrix\", result.syn0.shape)\n",
        "  return result"
      ],
      "execution_count": null,
      "outputs": []
    },
    {
      "cell_type": "code",
      "metadata": {
        "id": "UNAARuwKGHu5",
        "colab": {
          "base_uri": "https://localhost:8080/"
        },
        "outputId": "3a172860-3b41-4b4a-9a3a-ef7c12627e91"
      },
      "source": [
        "%%time\n",
        "# Initialize the embeddings client if this hasn't been done yet.\n",
        "# For the efficiency of this notebook we just load the first 2M words, and don't\n",
        "# re-initialize the client if it already exists. You could of course filter the\n",
        "# word list in other ways.\n",
        "if not 'client' in vars():\n",
        "  print \"Loading word embeddings from %s\" % WORD2VEC_FILE\n",
        "  with gzip.GzipFile(fileobj=open(WORD2VEC_FILE, 'r')) as f:\n",
        "    client = load_word2vec_format(f, max_num_words=2000000)"
      ],
      "execution_count": null,
      "outputs": [
        {
          "output_type": "stream",
          "text": [
            "Loading word embeddings from tmp/debias_word_embeddings/GoogleNews-vectors-negative300.bin.gz\n",
            "vector_size =  300\n",
            "Loading 2000000 embeddings\n",
            "('duplicate words detected, shrinking matrix size from %i to %i', 3000000, 2000000)\n",
            "('loaded %s matrix', (2000000, 300))\n",
            "CPU times: user 1min 5s, sys: 3.83 s, total: 1min 9s\n",
            "Wall time: 1min 9s\n"
          ],
          "name": "stdout"
        }
      ]
    },
    {
      "cell_type": "markdown",
      "metadata": {
        "id": "Y_N47nk687UG"
      },
      "source": [
        "The following blocks load a data file with analogy training examples and displays some of them as examples.  By changing the indices selected in the final block you can change which analogies from the training set are being displayed."
      ]
    },
    {
      "cell_type": "code",
      "metadata": {
        "id": "pKGlGo5VJnU4"
      },
      "source": [
        "def print_knn(client, v, k):\n",
        "  print \"%d closest neighbors to A-B+C:\" % k\n",
        "  for neighbor, score in client.similar_by_vector(\n",
        "      v.flatten().astype(float), topn=k):\n",
        "    print \"%s : score=%f\" % (neighbor, score)"
      ],
      "execution_count": null,
      "outputs": []
    },
    {
      "cell_type": "markdown",
      "metadata": {
        "id": "eG_tc8kOkMlm"
      },
      "source": [
        "Let's take a look at the analogies that the model generates for *man*:*woman*::*boss*:$\\underline{\\quad}$.\n",
        "Try changing ``\"boss\"`` to ``\"friend\"`` to see further examples of problematic analogies."
      ]
    },
    {
      "cell_type": "code",
      "metadata": {
        "id": "6rEfwqtDIt0Q",
        "colab": {
          "base_uri": "https://localhost:8080/"
        },
        "outputId": "e64f62a2-93bd-46d3-f76d-b82df7bab40c"
      },
      "source": [
        "# Use a word embedding to compute an analogy\n",
        "# Edit the parameters below to get different analogies\n",
        "A = \"he\"\n",
        "B = \"she\"\n",
        "C = \"doctor\"\n",
        "NUM_ANALOGIES = 10\n",
        "\n",
        "in_arr = []\n",
        "for i, word in enumerate((A, B, C)):\n",
        "  in_arr.append(client.word_vec(word))\n",
        "in_arr = np.array([in_arr])\n",
        "\n",
        "print_knn(client, -in_arr[0, 0, :] + in_arr[0, 1, :] + in_arr[0, 2, :],\n",
        "          NUM_ANALOGIES)"
      ],
      "execution_count": null,
      "outputs": [
        {
          "output_type": "stream",
          "text": [
            "10 closest neighbors to A-B+C:\n",
            "doctor : score=0.865237\n",
            "nurse : score=0.692169\n",
            "gynecologist : score=0.690843\n",
            "nurse_practitioner : score=0.645798\n",
            "doctors : score=0.643204\n",
            "pediatrician : score=0.641547\n",
            "physician : score=0.630148\n",
            "midwife : score=0.616777\n",
            "pharmacist : score=0.609216\n",
            "dentist : score=0.604598\n"
          ],
          "name": "stdout"
        }
      ]
    },
    {
      "cell_type": "code",
      "metadata": {
        "id": "CLhtOKQKKN4W"
      },
      "source": [
        "def load_analogies(filename):\n",
        "  \"\"\"Loads analogies.\n",
        "\n",
        "  Args:\n",
        "    filename: the file containing the analogies.\n",
        "\n",
        "  Returns:\n",
        "    A list containing the analogies.\n",
        "  \"\"\"\n",
        "  analogies = []\n",
        "  with open(filename, \"r\") as fast_file:\n",
        "    for line in fast_file:\n",
        "      line = line.strip()\n",
        "      # in the analogy file, comments start with :\n",
        "      if line[0] == \":\":\n",
        "        continue\n",
        "      words = line.split()\n",
        "      # there are no misformatted lines in the analogy file, so this should\n",
        "      # only happen once we're done reading all analogies.\n",
        "      if len(words) != 4:\n",
        "        print \"Invalid line: %s\" % line\n",
        "        continue\n",
        "      analogies.append(words)\n",
        "  print \"loaded %d analogies\" % len(analogies)\n",
        "  return analogies"
      ],
      "execution_count": null,
      "outputs": []
    },
    {
      "cell_type": "code",
      "metadata": {
        "id": "2RtfKMshE0gy",
        "colab": {
          "base_uri": "https://localhost:8080/"
        },
        "outputId": "33197edd-ee35-44e9-ba2b-fd2b5449455a"
      },
      "source": [
        "analogies = load_analogies(ANALOGIES_FILE)\n",
        "print \"\\n\".join(\"%s is to %s as %s is to %s\" % tuple(x) for x in analogies[:5])"
      ],
      "execution_count": null,
      "outputs": [
        {
          "output_type": "stream",
          "text": [
            "loaded 19544 analogies\n",
            "Athens is to Greece as Baghdad is to Iraq\n",
            "Athens is to Greece as Bangkok is to Thailand\n",
            "Athens is to Greece as Beijing is to China\n",
            "Athens is to Greece as Berlin is to Germany\n",
            "Athens is to Greece as Bern is to Switzerland\n"
          ],
          "name": "stdout"
        }
      ]
    },
    {
      "cell_type": "markdown",
      "metadata": {
        "id": "w4LQ8JcJKXmU"
      },
      "source": [
        "## Adversarial Networks for Bias Mitigation\n",
        "\n",
        "The method presented here for removing some of the bias from embeddings is based on the idea that those embeddings are intended to be used to predict some outcome $Y$ based on an input $X$ but that outcome should, in a fair world, be completely unrelated to some protected variable $Z$.  If that were the case then knowing $Y$ would not help you predict $Z$ any better than chance.  This principle can be directly translated into two networks in series as illustrated below.  The first attempts to predict $Y$ using $X$ as input.  The second attempts to use the predicted value of $Y$ to predict $Z$.  See Figure 1 of [the paper](https://arxiv.org/pdf/1801.07593.pdf).\n",
        "\n",
        "However, simply training the weights in W based on $\\nabla_WL_1$ and the weights in $U$ based on $\\nabla_UL_2$ won’t actually achieve an unbiased model.  In order to do that you need to incorporate into $W$’s update function the concept that $U$ should be no better than chance at predicting $Z$.  The way that you can achieve that is analogous to how Generative Adversarial Networks (GANs) ([Goodfellow et al. 2014](http://papers.nips.cc/paper/5423-generative-adversarial-nets)) train their generators.\n",
        "\n",
        "In addition to $\\nabla_WL_1$ you incorporate the negation of $\\nabla_WL_2$ into $W$’s update function.  However, it’s possible that $\\nabla_WL_1$ is changing $W$ in a way which will improve accuracy by using the biased information you are trying to protect.  In order to avoid that you also incorporate a term which removes that component of $\\nabla_WL_1$ by projecting it onto $\\nabla_WL_2$.  Once you’ve incorporated those two terms, the update function for $W$ becomes:\n",
        "\n",
        "\n",
        "$\\nabla_WL_1-proj_{(\\nabla_WL_2)}\\nabla_WL_1 - \\nabla_WL_2$\n",
        "\n"
      ]
    },
    {
      "cell_type": "markdown",
      "metadata": {
        "id": "kwfqHFzAKgiV"
      },
      "source": [
        "### Defining the Protected Variable of Embeddings\n",
        "\n",
        "The description of how to incorporate adversarial networks into machine learned models above is very generic because the technique is generally applicable for any type of systems which can be described in terms of input $X$ being predictive of $Y$ but potentially containing information about a protected variable $Z$.  So long as you can construct the relevant update functions you can apply this technique.  However, that doesn’t tell you much about the nature of $X$, $Y$ and $Z$.  In the case of the word analogies task above, $X = B + C - A$ and $Y = D$.  Figuring out what $Z$ should be is a little bit trickier though.  For that we can look to a paper by [Bulokbasi et. al.](http://papers.nips.cc/paper/6227-man-is-to-computer-programmer-as-woman-is-to-homemaker-debiasing-word-embeddings) where they developed an unsupervised methodology for removing gendered semantics from word embeddings.\n",
        "\n",
        "The first step is to select pairs of words which are relevant to the type of bias you are trying to remove.  In the case of gender you can choose word pairs like “man”:”woman” and “boy”:girl” which have gender as the only difference in their semantics.  Once you have these word pairs you can compute the difference between their embeddings to produce vectors in the embeddings’ semantic space which are roughly parallel to the semantics of gender.  Performing Principal Components Analysis (PCA) on those vectors then gives you the major components of the semantics of gender as defined by the gendered word pairs provided.\n"
      ]
    },
    {
      "cell_type": "code",
      "metadata": {
        "id": "pM8NTb7bKo_5"
      },
      "source": [
        "def _np_normalize(v):\n",
        "  \"\"\"Returns the input vector, normalized.\"\"\"\n",
        "  return v / np.linalg.norm(v)\n",
        "\n",
        "\n",
        "def load_vectors(client, analogies):\n",
        "  \"\"\"Loads and returns analogies and embeddings.\n",
        "\n",
        "  Args:\n",
        "    client: the client to query.\n",
        "    analogies: a list of analogies.\n",
        "\n",
        "  Returns:\n",
        "    A tuple with:\n",
        "    - the embedding matrix itself\n",
        "    - a dictionary mapping from strings to their corresponding indices\n",
        "      in the embedding matrix\n",
        "    - the list of words, in the order they are found in the embedding matrix\n",
        "  \"\"\"\n",
        "  words_unfiltered = set()\n",
        "  for analogy in analogies:\n",
        "    words_unfiltered.update(analogy)\n",
        "  print \"found %d unique words\" % len(words_unfiltered)\n",
        "\n",
        "  vecs = []\n",
        "  words = []\n",
        "  index_map = {}\n",
        "  for word in words_unfiltered:\n",
        "    try:\n",
        "      vecs.append(_np_normalize(client.word_vec(word)))\n",
        "      index_map[word] = len(words)\n",
        "      words.append(word)\n",
        "    except KeyError:\n",
        "      print \"word not found: %s\" % word\n",
        "  print \"words not filtered out: %d\" % len(words)\n",
        "\n",
        "  return np.array(vecs), index_map, words"
      ],
      "execution_count": null,
      "outputs": []
    },
    {
      "cell_type": "code",
      "metadata": {
        "id": "6TLg0wygKKW0",
        "colab": {
          "base_uri": "https://localhost:8080/"
        },
        "outputId": "9eb8bc8b-a803-42f9-d211-e225e0db1da5"
      },
      "source": [
        "embed, indices, words = load_vectors(client, analogies)\n",
        "\n",
        "embed_dim = len(embed[0].flatten())\n",
        "print \"word embedding dimension: %d\" % embed_dim"
      ],
      "execution_count": null,
      "outputs": [
        {
          "output_type": "stream",
          "text": [
            "found 905 unique words\n",
            "words not filtered out: 905\n",
            "word embedding dimension: 300\n"
          ],
          "name": "stdout"
        }
      ]
    },
    {
      "cell_type": "code",
      "metadata": {
        "id": "SFSGOaqDLPij"
      },
      "source": [
        "def find_gender_direction(embed,\n",
        "                          indices):\n",
        "  \"\"\"Finds and returns a 'gender direction'.\"\"\"\n",
        "  pairs = [\n",
        "      (\"woman\", \"man\"),\n",
        "      (\"her\", \"his\"),\n",
        "      (\"she\", \"he\"),\n",
        "      (\"aunt\", \"uncle\"),\n",
        "      (\"niece\", \"nephew\"),\n",
        "      (\"daughters\", \"sons\"),\n",
        "      (\"mother\", \"father\"),\n",
        "      (\"daughter\", \"son\"),\n",
        "      (\"granddaughter\", \"grandson\"),\n",
        "      (\"girl\", \"boy\"),\n",
        "      (\"stepdaughter\", \"stepson\"),\n",
        "      (\"mom\", \"dad\"),\n",
        "  ]\n",
        "  m = []\n",
        "  for wf, wm in pairs:\n",
        "    m.append(embed[indices[wf]] - embed[indices[wm]])\n",
        "  m = np.array(m)\n",
        "\n",
        "  # the next three lines are just a PCA.\n",
        "  m = np.cov(np.array(m).T)\n",
        "  evals, evecs = np.linalg.eig(m)\n",
        "  return _np_normalize(np.real(evecs[:, np.argmax(evals)]))"
      ],
      "execution_count": null,
      "outputs": []
    },
    {
      "cell_type": "code",
      "metadata": {
        "id": "fSj8daFnKvNr",
        "colab": {
          "base_uri": "https://localhost:8080/"
        },
        "outputId": "a5385213-28e7-4cc8-ff8b-5583d085ac19"
      },
      "source": [
        "# Using the embeddings, find the gender vector.\n",
        "gender_direction = find_gender_direction(embed, indices)\n",
        "print \"gender direction: %s\" % str(gender_direction.flatten())"
      ],
      "execution_count": null,
      "outputs": [
        {
          "output_type": "stream",
          "text": [
            "gender direction: [-7.94102556e-02 -8.62907447e-02 -9.36046086e-02 -6.82094699e-02\n",
            "  2.10405600e-02  9.09854549e-03  3.69967887e-02  6.76862493e-03\n",
            " -1.35619514e-01  3.62402266e-02  6.62573091e-02 -9.91207519e-04\n",
            "  4.59588196e-02 -6.13280986e-02 -2.14388384e-03 -1.15234663e-02\n",
            " -7.85432247e-02 -6.24935300e-02 -8.79221813e-02 -1.73189498e-02\n",
            "  1.72767315e-02  1.72292006e-03 -3.53863093e-02  5.24758140e-03\n",
            "  1.45531278e-02  7.97479425e-03 -3.40466363e-02 -2.83068019e-02\n",
            " -1.02746018e-01 -1.78703381e-01 -1.88934471e-02 -7.23408473e-02\n",
            " -1.06853722e-01 -4.48557103e-02 -5.89368281e-03 -7.94341237e-02\n",
            "  1.17833895e-03 -5.86551743e-02  3.10732848e-02 -3.12044830e-03\n",
            " -4.15907969e-02 -7.17691663e-03 -2.56242105e-02 -3.41547309e-02\n",
            " -6.38683437e-02  7.83023380e-02  1.41320146e-03 -1.92862106e-02\n",
            "  4.27428205e-02  6.23987501e-03  2.58495545e-02 -2.53252181e-02\n",
            " -6.58270803e-03  6.81094699e-02  2.29536006e-02 -3.01465541e-02\n",
            " -8.76620455e-03 -3.48142318e-03 -1.03283556e-02 -4.43229749e-02\n",
            "  4.82072717e-02 -1.38947109e-01 -5.49295845e-02  1.42456083e-01\n",
            " -3.82443506e-02  5.43604495e-02  6.42165093e-02  1.80136131e-01\n",
            " -2.95630757e-02 -7.22149244e-02  1.53964050e-02  3.28869800e-02\n",
            "  4.24435462e-02  2.30966085e-02  1.12612003e-02  4.36423822e-02\n",
            " -7.29707357e-04 -3.64472450e-02  7.50969536e-02  7.15724467e-02\n",
            " -2.49016159e-02 -3.88707157e-02  2.47988546e-02  8.84891062e-03\n",
            " -1.57366197e-01  5.67419234e-02 -5.13816362e-02  1.39329337e-02\n",
            " -2.49230367e-03 -8.79131791e-03 -6.95209856e-02 -9.16509235e-02\n",
            " -5.41995965e-02  1.73404339e-02 -6.23635240e-03  1.97633141e-02\n",
            " -1.39783648e-02 -2.09286823e-02  5.42969581e-02  5.43749286e-02\n",
            " -2.15415313e-02 -2.41145593e-03  4.85206319e-02 -5.10697951e-02\n",
            " -1.34003908e-02  2.13284548e-02 -1.12171602e-01 -3.89264077e-02\n",
            "  7.07023362e-02  6.22944837e-03 -2.23500522e-02 -5.02853247e-02\n",
            "  9.33401918e-02  2.40351194e-02 -4.21102256e-02  5.20160292e-02\n",
            "  4.75287371e-02 -8.11995185e-02 -7.38389538e-03  2.29741450e-02\n",
            "  7.62025009e-03  5.25651699e-02  1.24644176e-01 -3.22192007e-02\n",
            "  9.16384819e-02  1.89994690e-01  7.22935579e-03  5.25197973e-02\n",
            "  8.30303086e-02  6.13005472e-02  4.64472574e-02  1.97908008e-02\n",
            " -5.19907059e-02  1.51321854e-01  2.47586642e-02  7.32033143e-02\n",
            "  2.25787357e-02 -5.42248469e-02 -6.66883855e-02 -1.05413345e-01\n",
            " -2.27129787e-02 -8.88976863e-02 -3.63838620e-02 -8.98777237e-02\n",
            "  5.52357322e-03  3.68328109e-02 -6.02720613e-02  7.25324488e-02\n",
            " -6.96779923e-03 -1.40505525e-01  2.02638063e-03 -3.35120036e-04\n",
            "  7.33190982e-02 -6.88252971e-02  4.61441135e-02  7.68183901e-02\n",
            " -3.30161505e-02  8.79513077e-02  7.73010673e-02  9.25715579e-03\n",
            " -9.04122538e-02  7.52339842e-03 -5.72907134e-02  4.28152602e-02\n",
            "  2.86397606e-02 -5.62480396e-02 -3.87299617e-02 -3.87058619e-02\n",
            "  5.85371538e-02  9.43237537e-02  2.71958769e-02  5.25680701e-02\n",
            "  2.08041380e-02 -3.83978501e-02 -1.10333866e-01 -1.88310924e-02\n",
            "  1.85601924e-02  1.11566914e-01 -3.58018442e-04  2.06100921e-02\n",
            "  8.06141199e-03 -1.22897665e-02 -2.16353311e-02  8.96372961e-03\n",
            "  1.00744761e-02 -2.87074612e-02  1.11815260e-02  5.87513547e-02\n",
            " -5.30042040e-02  1.27520561e-01  1.25319079e-02 -1.03226821e-01\n",
            " -1.97484407e-02 -3.42320863e-02  1.05197274e-01  1.76135002e-02\n",
            "  2.80467006e-02 -8.31193905e-03  1.10601081e-02 -1.40255927e-02\n",
            " -4.74642660e-02 -2.75716115e-03 -1.01467816e-01 -5.44390020e-02\n",
            " -8.95335277e-02 -1.65279682e-02 -1.12849845e-01  3.43099446e-02\n",
            "  1.07627595e-02 -1.95155440e-02  8.49218426e-03  7.18273491e-02\n",
            "  9.43337430e-02  5.93970694e-02  4.42150488e-02  3.93104455e-03\n",
            "  1.55634159e-02  1.47405106e-02  9.86230904e-02 -3.51293172e-02\n",
            " -5.48265317e-03  4.39100322e-02  1.00173280e-01  4.73382845e-02\n",
            " -8.75985652e-02 -8.01811478e-02 -2.84562342e-02 -1.62217727e-02\n",
            " -5.23065164e-02  2.49845262e-02 -3.01654996e-02  1.45479843e-02\n",
            " -1.35092122e-02 -1.05868228e-02  1.30148387e-04  1.41828245e-03\n",
            "  9.64396967e-02 -1.37944939e-03  1.28795558e-02  5.14631073e-02\n",
            "  4.12590524e-02 -1.05768228e-01  4.51128868e-02  7.65950631e-02\n",
            "  8.35771929e-02  5.04364947e-02 -7.37407299e-02 -1.27911956e-02\n",
            " -7.96467866e-02  1.42361577e-02  2.28048101e-02 -2.45567372e-02\n",
            "  1.51617365e-02 -8.14192396e-02 -2.99888041e-02 -9.38109909e-03\n",
            "  9.73554448e-03  2.77240676e-02 -1.44856280e-02 -2.15535602e-02\n",
            "  2.22796961e-02 -2.44437577e-02 -1.73757435e-04 -5.92882308e-02\n",
            " -6.75396381e-02 -6.88861185e-03  1.79634043e-02  5.94912151e-02\n",
            "  1.34743549e-02  3.44577542e-02 -5.31342611e-02  1.22593336e-02\n",
            "  6.63454886e-03  1.72750748e-01  8.17975838e-02  7.98060175e-03\n",
            "  3.48464502e-02  3.15494960e-02  3.00879598e-02  1.26706401e-02\n",
            " -5.09294800e-02 -1.49508612e-02  5.45480741e-03  5.96511080e-02\n",
            "  8.97118066e-03  2.17049865e-02 -5.54851264e-02  4.33567631e-03\n",
            "  4.53374907e-02  9.27058295e-02 -2.28239338e-02  3.36064502e-02\n",
            " -5.63768244e-02 -4.46595961e-02  2.17583523e-03 -3.09787628e-02\n",
            " -1.12975804e-02  9.51682266e-02  3.74056898e-02  1.14501412e-01]\n"
          ],
          "name": "stdout"
        }
      ]
    },
    {
      "cell_type": "markdown",
      "metadata": {
        "id": "pVJIOmh2LcV7"
      },
      "source": [
        "Once you have the first principal component of the embedding differences, you can start projecting the embeddings of words onto it.  That projection is roughly the degree to which a word is relevant to the latent protected variable defined by the first principle component of the word pairs given.  This projection can then be taken as the protected variable $Z$ which the adversary is attempting to predict on the basis of the predicted value of $Y$.  The code below illustrates how to construct a function which computes $Z$ from $X$ in this way."
      ]
    },
    {
      "cell_type": "markdown",
      "metadata": {
        "id": "FpOpO6RGBznY"
      },
      "source": [
        "Try editing the WORD param in the next cell to see the projection of other words onto the gender direction."
      ]
    },
    {
      "cell_type": "code",
      "metadata": {
        "id": "BipW3yjvLJFz",
        "colab": {
          "base_uri": "https://localhost:8080/"
        },
        "outputId": "3f14b3b2-ea4d-4064-a39a-06ce27a49bb7"
      },
      "source": [
        "WORD = \"she\"\n",
        "\n",
        "word_vec = client.word_vec(WORD)\n",
        "print word_vec.dot(gender_direction)"
      ],
      "execution_count": null,
      "outputs": [
        {
          "output_type": "stream",
          "text": [
            "0.706431491878112\n"
          ],
          "name": "stdout"
        }
      ]
    },
    {
      "cell_type": "markdown",
      "metadata": {
        "id": "RlxOV3RZBpou"
      },
      "source": [
        "Let's now look at the words with the largest *negative* projection onto the gender dimension."
      ]
    },
    {
      "cell_type": "code",
      "metadata": {
        "id": "rxjWqgCXLe6S",
        "colab": {
          "base_uri": "https://localhost:8080/"
        },
        "outputId": "5830d9e8-4357-47b6-f64e-740a525e0fbd"
      },
      "source": [
        "words = set()\n",
        "for a in analogies:\n",
        "  words.update(a)\n",
        "\n",
        "df = pd.DataFrame(data={\"word\": list(words)})\n",
        "df[\"gender_score\"] = df[\"word\"].map(\n",
        "    lambda w: client.word_vec(w).dot(gender_direction))\n",
        "df.sort_values(by=\"gender_score\", inplace=True)\n",
        "print df.head(10)\n"
      ],
      "execution_count": null,
      "outputs": [
        {
          "output_type": "stream",
          "text": [
            "             word  gender_score\n",
            "188           his     -0.660903\n",
            "843            he     -0.584860\n",
            "284  unimpressive     -0.544877\n",
            "615       Anaheim     -0.503144\n",
            "535         Libya     -0.486664\n",
            "242       playing     -0.472259\n",
            "754          play     -0.459254\n",
            "362      sharpest     -0.455905\n",
            "830       Detroit     -0.454509\n",
            "303        calmly     -0.448576\n"
          ],
          "name": "stdout"
        }
      ]
    },
    {
      "cell_type": "markdown",
      "metadata": {
        "id": "v9fx985BByiU"
      },
      "source": [
        "Let's now look at the words with the largest *positive* projection onto the gender dimension."
      ]
    },
    {
      "cell_type": "code",
      "metadata": {
        "id": "JTLLr12vB2mN",
        "colab": {
          "base_uri": "https://localhost:8080/"
        },
        "outputId": "e4049a93-ebef-4bcb-f206-e4507adfcfd7"
      },
      "source": [
        "df.sort_values(by=\"gender_score\", inplace=True, ascending=False)\n",
        "print df.head(10)"
      ],
      "execution_count": null,
      "outputs": [
        {
          "output_type": "stream",
          "text": [
            "            word  gender_score\n",
            "520      husband      0.950914\n",
            "462  policewoman      0.816518\n",
            "28         women      0.758530\n",
            "733          mom      0.732802\n",
            "335     princess      0.719736\n",
            "517          she      0.706431\n",
            "355      sisters      0.699692\n",
            "429      stepson      0.686814\n",
            "813          her      0.683995\n",
            "470        queen      0.682354\n"
          ],
          "name": "stdout"
        }
      ]
    },
    {
      "cell_type": "markdown",
      "metadata": {
        "id": "rMEGkmSlTsR6"
      },
      "source": [
        "### Training the model\n",
        "\n",
        "Training adversarial networks is hard. They are touchy, and if touched the wrong way, they blow up VERY quickly. One must be very careful to train both models slowly enough, so that the parameters in the models do not diverge. In practice, this usually entails significantly lowering the step size of both the classifier and the adversary. It is also probably beneficial to initialize the parameters of the adversary to be extremely small, to ensure that the classifier does not overfit against a particular (sub-optimal) adversary (such overfitting can very quickly cause divergence!).  It is also possible that if the classifier is too good at hiding the protected variable from the adversary then the adversary will impose updates that diverge in an effort to improve its performance.  The solution to that can sometimes be to actually increase the adversary’s learning rate to prevent divergence (something almost unheard of in most learning systems).  Below is a system for learning the debiasing model for word embeddings described above.  \n",
        "\n",
        "Inspect the terminal output for the kernel to inspect the performance of the model. Try modifying the hyperparameters at the top to see how that impacts the convergence properties of the system."
      ]
    },
    {
      "cell_type": "code",
      "metadata": {
        "id": "7tsGeQLKT3ZY"
      },
      "source": [
        "def tf_normalize(x):\n",
        "  \"\"\"Returns the input vector, normalized.\n",
        "\n",
        "  A small number is added to the norm so that this function does not break when\n",
        "  dealing with the zero vector (e.g. if the weights are zero-initialized).\n",
        "\n",
        "  Args:\n",
        "    x: the tensor to normalize\n",
        "  \"\"\"\n",
        "  return x / (tf.norm(x) + np.finfo(np.float32).tiny)\n",
        "\n",
        "\n",
        "class AdversarialEmbeddingModel(object):\n",
        "  \"\"\"A model for doing adversarial training of embedding models.\"\"\"\n",
        "\n",
        "  def __init__(self, client,\n",
        "               data_p, embed_dim, projection,\n",
        "               projection_dims, pred):\n",
        "    \"\"\"Creates a new AdversarialEmbeddingModel.\n",
        "\n",
        "    Args:\n",
        "      client: The (possibly biased) embeddings.\n",
        "      data_p: Placeholder for the data.\n",
        "      embed_dim: Number of dimensions used in the embeddings.\n",
        "      projection: The space onto which we are \"projecting\".\n",
        "      projection_dims: Number of dimensions of the projection.\n",
        "      pred: Prediction layer.\n",
        "    \"\"\"\n",
        "    # load the analogy vectors as well as the embeddings\n",
        "    self.client = client\n",
        "    self.data_p = data_p\n",
        "    self.embed_dim = embed_dim\n",
        "    self.projection = projection\n",
        "    self.projection_dims = projection_dims\n",
        "    self.pred = pred\n",
        "\n",
        "  def nearest_neighbors(self, sess, in_arr,\n",
        "                        k):\n",
        "    \"\"\"Finds the nearest neighbors to a vector.\n",
        "\n",
        "    Args:\n",
        "      sess: Session to use.\n",
        "      in_arr: Vector to find nearest neighbors to.\n",
        "      k: Number of nearest neighbors to return\n",
        "    Returns:\n",
        "      List of up to k pairs of (word, score).\n",
        "    \"\"\"\n",
        "    v = sess.run(self.pred, feed_dict={self.data_p: in_arr})\n",
        "    return self.client.similar_by_vector(v.flatten().astype(float), topn=k)\n",
        "\n",
        "  def write_to_file(self, sess, f):\n",
        "    \"\"\"Writes a model to disk.\"\"\"\n",
        "    np.savetxt(f, sess.run(self.projection))\n",
        "\n",
        "  def read_from_file(self, sess, f):\n",
        "    \"\"\"Reads a model from disk.\"\"\"\n",
        "    loaded_projection = np.loadtxt(f).reshape(\n",
        "        [self.embed_dim, self.projection_dims])\n",
        "    sess.run(self.projection.assign(loaded_projection))\n",
        "\n",
        "  def fit(self,\n",
        "          sess,\n",
        "          data,\n",
        "          data_p,\n",
        "          labels,\n",
        "          labels_p,\n",
        "          protect,\n",
        "          protect_p,\n",
        "          gender_direction,\n",
        "          pred_learning_rate,\n",
        "          protect_learning_rate,\n",
        "          protect_loss_weight,\n",
        "          num_steps,\n",
        "          batch_size,\n",
        "          debug_interval=1000):\n",
        "    \"\"\"Trains a model.\n",
        "\n",
        "    Args:\n",
        "      sess: Session.\n",
        "      data: Features for the training data.\n",
        "      data_p: Placeholder for the features for the training data.\n",
        "      labels: Labels for the training data.\n",
        "      labels_p: Placeholder for the labels for the training data.\n",
        "      protect: Protected variables.\n",
        "      protect_p: Placeholder for the protected variables.\n",
        "      gender_direction: The vector from find_gender_direction().\n",
        "      pred_learning_rate: Learning rate for predicting labels.\n",
        "      protect_learning_rate: Learning rate for protecting variables.\n",
        "      protect_loss_weight: The constant 'alpha' found in\n",
        "          debias_word_embeddings.ipynb.\n",
        "      num_steps: Number of training steps.\n",
        "      batch_size: Number of training examples in each step.\n",
        "      debug_interval: Frequency at which to log performance metrics during\n",
        "          training.\n",
        "    \"\"\"\n",
        "    feed_dict = {\n",
        "        data_p: data,\n",
        "        labels_p: labels,\n",
        "        protect_p: protect,\n",
        "    }\n",
        "    # define the prediction loss\n",
        "    pred_loss = tf.losses.mean_squared_error(labels_p, self.pred)\n",
        "\n",
        "    # compute the prediction of the protected variable.\n",
        "    # The \"trainable\"/\"not trainable\" designations are for the predictor. The\n",
        "    # adversary explicitly specifies its own list of weights to train.\n",
        "    protect_weights = tf.get_variable(\n",
        "        \"protect_weights\", [self.embed_dim, 1], trainable=False)\n",
        "    protect_pred = tf.matmul(self.pred, protect_weights)\n",
        "    protect_loss = tf.losses.mean_squared_error(protect_p, protect_pred)\n",
        "\n",
        "    pred_opt = tf.train.AdamOptimizer(pred_learning_rate)\n",
        "    protect_opt = tf.train.AdamOptimizer(protect_learning_rate)\n",
        "\n",
        "    protect_grad = {v: g for (g, v) in pred_opt.compute_gradients(protect_loss)}\n",
        "    pred_grad = []\n",
        "\n",
        "    # applies the gradient expression found in the document linked\n",
        "    # at the top of this file.\n",
        "    for (g, v) in pred_opt.compute_gradients(pred_loss):\n",
        "      unit_protect = tf_normalize(protect_grad[v])\n",
        "      # the two lines below can be commented out to train without debiasing\n",
        "      g -= tf.reduce_sum(g * unit_protect) * unit_protect\n",
        "      g -= protect_loss_weight * protect_grad[v]\n",
        "      pred_grad.append((g, v))\n",
        "      pred_min = pred_opt.apply_gradients(pred_grad)\n",
        "\n",
        "    # compute the loss of the protected variable prediction.\n",
        "    protect_min = protect_opt.minimize(protect_loss, var_list=[protect_weights])\n",
        "\n",
        "    sess.run(tf.global_variables_initializer())\n",
        "    sess.run(tf.local_variables_initializer())\n",
        "    step = 0\n",
        "    while step < num_steps:\n",
        "      # pick samples at random without replacement as a minibatch\n",
        "      ids = np.random.choice(len(data), batch_size, False)\n",
        "      data_s, labels_s, protect_s = data[ids], labels[ids], protect[ids]\n",
        "      sgd_feed_dict = {\n",
        "          data_p: data_s,\n",
        "          labels_p: labels_s,\n",
        "          protect_p: protect_s,\n",
        "      }\n",
        "\n",
        "      if not step % debug_interval:\n",
        "        metrics = [pred_loss, protect_loss, self.projection]\n",
        "        metrics_o = sess.run(metrics, feed_dict=feed_dict)\n",
        "        pred_loss_o, protect_loss_o, proj_o = metrics_o\n",
        "        # log stats every so often: number of steps that have passed,\n",
        "        # prediction loss, adversary loss\n",
        "        print(\"step: %d; pred_loss_o: %f; protect_loss_o: %f\" % (step,\n",
        "                     pred_loss_o, protect_loss_o))\n",
        "        for i in range(proj_o.shape[1]):\n",
        "          print(\"proj_o: %f; dot(proj_o, gender_direction): %f)\" %\n",
        "                       (np.linalg.norm(proj_o[:, i]),\n",
        "                       np.dot(proj_o[:, i].flatten(), gender_direction)))\n",
        "      sess.run([pred_min, protect_min], feed_dict=sgd_feed_dict)\n",
        "      step += 1\n",
        "      \n",
        "def filter_analogies(analogies,\n",
        "                     index_map):\n",
        "  filtered_analogies = []\n",
        "  for analogy in analogies:\n",
        "    if filter(index_map.has_key, analogy) != analogy:\n",
        "      print \"at least one word missing for analogy: %s\" % analogy\n",
        "    else:\n",
        "      filtered_analogies.append(map(index_map.get, analogy))\n",
        "  return filtered_analogies\n",
        "\n",
        "def make_data(\n",
        "    analogies, embed,\n",
        "    gender_direction):\n",
        "  \"\"\"Preps the training data.\n",
        "\n",
        "  Args:\n",
        "    analogies: a list of analogies\n",
        "    embed: the embedding matrix from load_vectors\n",
        "    gender_direction: the gender direction from find_gender_direction\n",
        "\n",
        "  Returns:\n",
        "    Three numpy arrays corresponding respectively to the input, output, and\n",
        "    protected variables.\n",
        "  \"\"\"\n",
        "  data = []\n",
        "  labels = []\n",
        "  protect = []\n",
        "  for analogy in analogies:\n",
        "    # the input is just the word embeddings of the first three words\n",
        "    data.append(embed[analogy[:3]])\n",
        "    # the output is just the word embeddings of the last word\n",
        "    labels.append(embed[analogy[3]])\n",
        "    # the protected variable is the gender component of the output embedding.\n",
        "    # the extra pair of [] is so that the array has the right shape after\n",
        "    # it is converted to a numpy array.\n",
        "    protect.append([np.dot(embed[analogy[3]], gender_direction)])\n",
        "  # Convert all three to numpy arrays, and return them.\n",
        "  return tuple(map(np.array, (data, labels, protect)))"
      ],
      "execution_count": null,
      "outputs": []
    },
    {
      "cell_type": "markdown",
      "metadata": {
        "id": "2DeRq6L9BiTo"
      },
      "source": [
        "Edit the training parameters below to experiment with different training runs.\n",
        "\n",
        "For example, try increasing the number of training steps to 50k."
      ]
    },
    {
      "cell_type": "code",
      "metadata": {
        "id": "GhOH62wAR-wz",
        "colab": {
          "base_uri": "https://localhost:8080/"
        },
        "outputId": "e2445609-a480-450b-bb79-51b1e189fd9e"
      },
      "source": [
        "# Edit the training parameters below to experiment with different training runs.\n",
        "# For example, try \n",
        "pred_learning_rate = 2**-16\n",
        "protect_learning_rate = 2**-16\n",
        "protect_loss_weight = 1.0\n",
        "num_steps = 10000\n",
        "batch_size = 1000\n",
        "\n",
        "embed_dim = 300\n",
        "projection_dims = 1\n",
        "\n",
        "\n",
        "sess = tf.InteractiveSession()\n",
        "with tf.variable_scope('var_scope', reuse=tf.AUTO_REUSE):\n",
        "    analogy_indices = filter_analogies(analogies, indices)\n",
        "\n",
        "    data, labels, protect = make_data(analogy_indices, embed, gender_direction)\n",
        "    data_p = tf.placeholder(tf.float32, shape=[None, 3, embed_dim], name=\"data\")\n",
        "    labels_p = tf.placeholder(tf.float32, shape=[None, embed_dim], name=\"labels\")\n",
        "    protect_p = tf.placeholder(tf.float32, shape=[None, 1], name=\"protect\")\n",
        "\n",
        "    # projection is the space onto which we are \"projecting\". By default, this is\n",
        "    # one-dimensional, but this can be tuned by projection_dims\n",
        "    projection = tf.get_variable(\"projection\", [embed_dim, projection_dims])\n",
        "\n",
        "    # build the prediction layer\n",
        "    # pred is the simple computation of d = -a + b + c for a : b :: c : d\n",
        "    pred = -data_p[:, 0, :] + data_p[:, 1, :] + data_p[:, 2, :]\n",
        "    pred -= tf.matmul(tf.matmul(pred, projection), tf.transpose(projection))\n",
        "\n",
        "    trained_model = AdversarialEmbeddingModel(\n",
        "        client, data_p, embed_dim, projection, projection_dims, pred)\n",
        "\n",
        "    trained_model.fit(sess, data, data_p, labels, labels_p, protect, protect_p, gender_direction,\n",
        "              pred_learning_rate,\n",
        "            protect_learning_rate, protect_loss_weight, num_steps, batch_size)"
      ],
      "execution_count": null,
      "outputs": [
        {
          "output_type": "stream",
          "text": [
            "step: 0; pred_loss_o: 0.003396; protect_loss_o: 0.011671\n",
            "proj_o: 1.370901; dot(proj_o, gender_direction): -0.048158)\n",
            "step: 1000; pred_loss_o: 0.003405; protect_loss_o: 0.009357\n",
            "proj_o: 1.419211; dot(proj_o, gender_direction): -0.102253)\n",
            "step: 2000; pred_loss_o: 0.003454; protect_loss_o: 0.009694\n",
            "proj_o: 1.554739; dot(proj_o, gender_direction): -0.170150)\n",
            "step: 3000; pred_loss_o: 0.003543; protect_loss_o: 0.010317\n",
            "proj_o: 1.701072; dot(proj_o, gender_direction): -0.233475)\n",
            "step: 4000; pred_loss_o: 0.003633; protect_loss_o: 0.009283\n",
            "proj_o: 1.804989; dot(proj_o, gender_direction): -0.280686)\n",
            "step: 5000; pred_loss_o: 0.003680; protect_loss_o: 0.007381\n",
            "proj_o: 1.852600; dot(proj_o, gender_direction): -0.308419)\n",
            "step: 6000; pred_loss_o: 0.003683; protect_loss_o: 0.005640\n",
            "proj_o: 1.857937; dot(proj_o, gender_direction): -0.323029)\n",
            "step: 7000; pred_loss_o: 0.003656; protect_loss_o: 0.004363\n",
            "proj_o: 1.831728; dot(proj_o, gender_direction): -0.329679)\n",
            "step: 8000; pred_loss_o: 0.003615; protect_loss_o: 0.003504\n",
            "proj_o: 1.784799; dot(proj_o, gender_direction): -0.330725)\n",
            "step: 9000; pred_loss_o: 0.003570; protect_loss_o: 0.002914\n",
            "proj_o: 1.725004; dot(proj_o, gender_direction): -0.327957)\n"
          ],
          "name": "stdout"
        }
      ]
    },
    {
      "cell_type": "markdown",
      "metadata": {
        "id": "Vt--_4UCWTIg"
      },
      "source": [
        "### Analogy generation using the embeddings with bias reduced by the adversarial model\n",
        "\n",
        "Let's see how the model that has been trained to mitigate bias performs on the analogy task.\n",
        "As before, change \"boss\" to \"friend\" to see how those analogies have changed too.\n"
      ]
    },
    {
      "cell_type": "code",
      "metadata": {
        "id": "_56sPusFUVQP",
        "colab": {
          "base_uri": "https://localhost:8080/"
        },
        "outputId": "2da7a0dc-4ae5-4fc3-c374-115aa15f5304"
      },
      "source": [
        "# Parameters\n",
        "A = \"he\"\n",
        "B = \"she\"\n",
        "C = \"doctor\"\n",
        "NUM_ANALOGIES = 10\n",
        "\n",
        "# Use a word embedding to compute an analogy\n",
        "in_arr = []\n",
        "for i, word in enumerate((A, B, C)):\n",
        "  in_arr.append(client.word_vec(word))\n",
        "in_arr = np.array([in_arr])\n",
        "\n",
        "print_knn(client, sess.run(pred, feed_dict={data_p: in_arr}),\n",
        "          NUM_ANALOGIES)"
      ],
      "execution_count": null,
      "outputs": [
        {
          "output_type": "stream",
          "text": [
            "10 closest neighbors to A-B+C:\n",
            "doctor : score=0.810452\n",
            "doctors : score=0.633919\n",
            "gynecologist : score=0.618335\n",
            "physician : score=0.604603\n",
            "nurse : score=0.601004\n",
            "pediatrician : score=0.596106\n",
            "nurse_practitioner : score=0.568029\n",
            "dermatologist : score=0.563209\n",
            "midwife : score=0.551024\n",
            "pharmacist : score=0.548549\n"
          ],
          "name": "stdout"
        }
      ]
    },
    {
      "cell_type": "markdown",
      "metadata": {
        "id": "-Ei_ioWT_DDa"
      },
      "source": [
        "##Conclusion\n",
        "\n",
        "The method demonstrated here helps to reduce the amount of bias in word embeddings and, although not demonstrated here, generalizes quite well to other domains and tasks.  By trying to hide a protected variable from an adversary, a machine learned system can reduce the amount of biased information about that protected variable implicit in the system.  In addition to the specific method demonstrated here there are many variations on this theme which can be used to achieve different degrees and types of debiasing.  For example, you could debias with respect to more than one principle component of the protected variable by having the adverary predict multiple projections.  Many other elaborations on this basic idea are possible and hopefully this relatively simple system can serve as the basis for more complex and sophisticated systems capable of achieving subtle types of bias mitigation in many applications."
      ]
    }
  ]
}