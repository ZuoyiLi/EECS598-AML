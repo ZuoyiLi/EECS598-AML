{
  "nbformat": 4,
  "nbformat_minor": 0,
  "metadata": {
    "colab": {
      "name": "demoTransferability.ipynb",
      "provenance": [],
      "collapsed_sections": [],
      "machine_shape": "hm"
    },
    "kernelspec": {
      "name": "python3",
      "display_name": "Python 3"
    },
    "accelerator": "GPU",
    "widgets": {
      "application/vnd.jupyter.widget-state+json": {
        "7d6f47e178494fffa62599f125162bb7": {
          "model_module": "@jupyter-widgets/controls",
          "model_name": "HBoxModel",
          "state": {
            "_view_name": "HBoxView",
            "_dom_classes": [],
            "_model_name": "HBoxModel",
            "_view_module": "@jupyter-widgets/controls",
            "_model_module_version": "1.5.0",
            "_view_count": null,
            "_view_module_version": "1.5.0",
            "box_style": "",
            "layout": "IPY_MODEL_d124130d022a4f0ca1c0aac814f12821",
            "_model_module": "@jupyter-widgets/controls",
            "children": [
              "IPY_MODEL_3019021dcc114e4eb189956b47651657",
              "IPY_MODEL_bf744be6b4634f1eb0b59ba44cdad663"
            ]
          }
        },
        "d124130d022a4f0ca1c0aac814f12821": {
          "model_module": "@jupyter-widgets/base",
          "model_name": "LayoutModel",
          "state": {
            "_view_name": "LayoutView",
            "grid_template_rows": null,
            "right": null,
            "justify_content": null,
            "_view_module": "@jupyter-widgets/base",
            "overflow": null,
            "_model_module_version": "1.2.0",
            "_view_count": null,
            "flex_flow": null,
            "width": null,
            "min_width": null,
            "border": null,
            "align_items": null,
            "bottom": null,
            "_model_module": "@jupyter-widgets/base",
            "top": null,
            "grid_column": null,
            "overflow_y": null,
            "overflow_x": null,
            "grid_auto_flow": null,
            "grid_area": null,
            "grid_template_columns": null,
            "flex": null,
            "_model_name": "LayoutModel",
            "justify_items": null,
            "grid_row": null,
            "max_height": null,
            "align_content": null,
            "visibility": null,
            "align_self": null,
            "height": null,
            "min_height": null,
            "padding": null,
            "grid_auto_rows": null,
            "grid_gap": null,
            "max_width": null,
            "order": null,
            "_view_module_version": "1.2.0",
            "grid_template_areas": null,
            "object_position": null,
            "object_fit": null,
            "grid_auto_columns": null,
            "margin": null,
            "display": null,
            "left": null
          }
        },
        "3019021dcc114e4eb189956b47651657": {
          "model_module": "@jupyter-widgets/controls",
          "model_name": "FloatProgressModel",
          "state": {
            "_view_name": "ProgressView",
            "style": "IPY_MODEL_8e5ed21699fa4386aaebf1c6d9e19e9b",
            "_dom_classes": [],
            "description": "PGD - Batches: 100%",
            "_model_name": "FloatProgressModel",
            "bar_style": "",
            "max": 1875,
            "_view_module": "@jupyter-widgets/controls",
            "_model_module_version": "1.5.0",
            "value": 1875,
            "_view_count": null,
            "_view_module_version": "1.5.0",
            "orientation": "horizontal",
            "min": 0,
            "description_tooltip": null,
            "_model_module": "@jupyter-widgets/controls",
            "layout": "IPY_MODEL_15e3d0c263334253801c0119cb53f3e1"
          }
        },
        "bf744be6b4634f1eb0b59ba44cdad663": {
          "model_module": "@jupyter-widgets/controls",
          "model_name": "HTMLModel",
          "state": {
            "_view_name": "HTMLView",
            "style": "IPY_MODEL_74e498c29cd14ac38c8b4677913579b3",
            "_dom_classes": [],
            "description": "",
            "_model_name": "HTMLModel",
            "placeholder": "​",
            "_view_module": "@jupyter-widgets/controls",
            "_model_module_version": "1.5.0",
            "value": " 1875/1875 [01:32&lt;00:00, 18.46it/s]",
            "_view_count": null,
            "_view_module_version": "1.5.0",
            "description_tooltip": null,
            "_model_module": "@jupyter-widgets/controls",
            "layout": "IPY_MODEL_041ac887c93c41a58d3ef9e797f07297"
          }
        },
        "8e5ed21699fa4386aaebf1c6d9e19e9b": {
          "model_module": "@jupyter-widgets/controls",
          "model_name": "ProgressStyleModel",
          "state": {
            "_view_name": "StyleView",
            "_model_name": "ProgressStyleModel",
            "description_width": "initial",
            "_view_module": "@jupyter-widgets/base",
            "_model_module_version": "1.5.0",
            "_view_count": null,
            "_view_module_version": "1.2.0",
            "bar_color": null,
            "_model_module": "@jupyter-widgets/controls"
          }
        },
        "15e3d0c263334253801c0119cb53f3e1": {
          "model_module": "@jupyter-widgets/base",
          "model_name": "LayoutModel",
          "state": {
            "_view_name": "LayoutView",
            "grid_template_rows": null,
            "right": null,
            "justify_content": null,
            "_view_module": "@jupyter-widgets/base",
            "overflow": null,
            "_model_module_version": "1.2.0",
            "_view_count": null,
            "flex_flow": null,
            "width": null,
            "min_width": null,
            "border": null,
            "align_items": null,
            "bottom": null,
            "_model_module": "@jupyter-widgets/base",
            "top": null,
            "grid_column": null,
            "overflow_y": null,
            "overflow_x": null,
            "grid_auto_flow": null,
            "grid_area": null,
            "grid_template_columns": null,
            "flex": null,
            "_model_name": "LayoutModel",
            "justify_items": null,
            "grid_row": null,
            "max_height": null,
            "align_content": null,
            "visibility": null,
            "align_self": null,
            "height": null,
            "min_height": null,
            "padding": null,
            "grid_auto_rows": null,
            "grid_gap": null,
            "max_width": null,
            "order": null,
            "_view_module_version": "1.2.0",
            "grid_template_areas": null,
            "object_position": null,
            "object_fit": null,
            "grid_auto_columns": null,
            "margin": null,
            "display": null,
            "left": null
          }
        },
        "74e498c29cd14ac38c8b4677913579b3": {
          "model_module": "@jupyter-widgets/controls",
          "model_name": "DescriptionStyleModel",
          "state": {
            "_view_name": "StyleView",
            "_model_name": "DescriptionStyleModel",
            "description_width": "",
            "_view_module": "@jupyter-widgets/base",
            "_model_module_version": "1.5.0",
            "_view_count": null,
            "_view_module_version": "1.2.0",
            "_model_module": "@jupyter-widgets/controls"
          }
        },
        "041ac887c93c41a58d3ef9e797f07297": {
          "model_module": "@jupyter-widgets/base",
          "model_name": "LayoutModel",
          "state": {
            "_view_name": "LayoutView",
            "grid_template_rows": null,
            "right": null,
            "justify_content": null,
            "_view_module": "@jupyter-widgets/base",
            "overflow": null,
            "_model_module_version": "1.2.0",
            "_view_count": null,
            "flex_flow": null,
            "width": null,
            "min_width": null,
            "border": null,
            "align_items": null,
            "bottom": null,
            "_model_module": "@jupyter-widgets/base",
            "top": null,
            "grid_column": null,
            "overflow_y": null,
            "overflow_x": null,
            "grid_auto_flow": null,
            "grid_area": null,
            "grid_template_columns": null,
            "flex": null,
            "_model_name": "LayoutModel",
            "justify_items": null,
            "grid_row": null,
            "max_height": null,
            "align_content": null,
            "visibility": null,
            "align_self": null,
            "height": null,
            "min_height": null,
            "padding": null,
            "grid_auto_rows": null,
            "grid_gap": null,
            "max_width": null,
            "order": null,
            "_view_module_version": "1.2.0",
            "grid_template_areas": null,
            "object_position": null,
            "object_fit": null,
            "grid_auto_columns": null,
            "margin": null,
            "display": null,
            "left": null
          }
        },
        "99c72789586a47419679d67387dd64bf": {
          "model_module": "@jupyter-widgets/controls",
          "model_name": "HBoxModel",
          "state": {
            "_view_name": "HBoxView",
            "_dom_classes": [],
            "_model_name": "HBoxModel",
            "_view_module": "@jupyter-widgets/controls",
            "_model_module_version": "1.5.0",
            "_view_count": null,
            "_view_module_version": "1.5.0",
            "box_style": "",
            "layout": "IPY_MODEL_38bec1e8270b4b4c93c5b5f210840e74",
            "_model_module": "@jupyter-widgets/controls",
            "children": [
              "IPY_MODEL_5dae2b8266d046059dc79a457e783191",
              "IPY_MODEL_3da2bcef0e7f4532b20e761145667dec"
            ]
          }
        },
        "38bec1e8270b4b4c93c5b5f210840e74": {
          "model_module": "@jupyter-widgets/base",
          "model_name": "LayoutModel",
          "state": {
            "_view_name": "LayoutView",
            "grid_template_rows": null,
            "right": null,
            "justify_content": null,
            "_view_module": "@jupyter-widgets/base",
            "overflow": null,
            "_model_module_version": "1.2.0",
            "_view_count": null,
            "flex_flow": null,
            "width": null,
            "min_width": null,
            "border": null,
            "align_items": null,
            "bottom": null,
            "_model_module": "@jupyter-widgets/base",
            "top": null,
            "grid_column": null,
            "overflow_y": null,
            "overflow_x": null,
            "grid_auto_flow": null,
            "grid_area": null,
            "grid_template_columns": null,
            "flex": null,
            "_model_name": "LayoutModel",
            "justify_items": null,
            "grid_row": null,
            "max_height": null,
            "align_content": null,
            "visibility": null,
            "align_self": null,
            "height": null,
            "min_height": null,
            "padding": null,
            "grid_auto_rows": null,
            "grid_gap": null,
            "max_width": null,
            "order": null,
            "_view_module_version": "1.2.0",
            "grid_template_areas": null,
            "object_position": null,
            "object_fit": null,
            "grid_auto_columns": null,
            "margin": null,
            "display": null,
            "left": null
          }
        },
        "5dae2b8266d046059dc79a457e783191": {
          "model_module": "@jupyter-widgets/controls",
          "model_name": "FloatProgressModel",
          "state": {
            "_view_name": "ProgressView",
            "style": "IPY_MODEL_5622f55b6fdf49f6abf865d95ae6a85d",
            "_dom_classes": [],
            "description": "PGD - Batches: 100%",
            "_model_name": "FloatProgressModel",
            "bar_style": "",
            "max": 1875,
            "_view_module": "@jupyter-widgets/controls",
            "_model_module_version": "1.5.0",
            "value": 1875,
            "_view_count": null,
            "_view_module_version": "1.5.0",
            "orientation": "horizontal",
            "min": 0,
            "description_tooltip": null,
            "_model_module": "@jupyter-widgets/controls",
            "layout": "IPY_MODEL_c771d60f3db04ab6a9fd13ee11e3f404"
          }
        },
        "3da2bcef0e7f4532b20e761145667dec": {
          "model_module": "@jupyter-widgets/controls",
          "model_name": "HTMLModel",
          "state": {
            "_view_name": "HTMLView",
            "style": "IPY_MODEL_4191c431022241898b6d63544f62dd39",
            "_dom_classes": [],
            "description": "",
            "_model_name": "HTMLModel",
            "placeholder": "​",
            "_view_module": "@jupyter-widgets/controls",
            "_model_module_version": "1.5.0",
            "value": " 1875/1875 [01:32&lt;00:00, 20.17it/s]",
            "_view_count": null,
            "_view_module_version": "1.5.0",
            "description_tooltip": null,
            "_model_module": "@jupyter-widgets/controls",
            "layout": "IPY_MODEL_a817883600da4c9c9e0f1a8c0682a017"
          }
        },
        "5622f55b6fdf49f6abf865d95ae6a85d": {
          "model_module": "@jupyter-widgets/controls",
          "model_name": "ProgressStyleModel",
          "state": {
            "_view_name": "StyleView",
            "_model_name": "ProgressStyleModel",
            "description_width": "initial",
            "_view_module": "@jupyter-widgets/base",
            "_model_module_version": "1.5.0",
            "_view_count": null,
            "_view_module_version": "1.2.0",
            "bar_color": null,
            "_model_module": "@jupyter-widgets/controls"
          }
        },
        "c771d60f3db04ab6a9fd13ee11e3f404": {
          "model_module": "@jupyter-widgets/base",
          "model_name": "LayoutModel",
          "state": {
            "_view_name": "LayoutView",
            "grid_template_rows": null,
            "right": null,
            "justify_content": null,
            "_view_module": "@jupyter-widgets/base",
            "overflow": null,
            "_model_module_version": "1.2.0",
            "_view_count": null,
            "flex_flow": null,
            "width": null,
            "min_width": null,
            "border": null,
            "align_items": null,
            "bottom": null,
            "_model_module": "@jupyter-widgets/base",
            "top": null,
            "grid_column": null,
            "overflow_y": null,
            "overflow_x": null,
            "grid_auto_flow": null,
            "grid_area": null,
            "grid_template_columns": null,
            "flex": null,
            "_model_name": "LayoutModel",
            "justify_items": null,
            "grid_row": null,
            "max_height": null,
            "align_content": null,
            "visibility": null,
            "align_self": null,
            "height": null,
            "min_height": null,
            "padding": null,
            "grid_auto_rows": null,
            "grid_gap": null,
            "max_width": null,
            "order": null,
            "_view_module_version": "1.2.0",
            "grid_template_areas": null,
            "object_position": null,
            "object_fit": null,
            "grid_auto_columns": null,
            "margin": null,
            "display": null,
            "left": null
          }
        },
        "4191c431022241898b6d63544f62dd39": {
          "model_module": "@jupyter-widgets/controls",
          "model_name": "DescriptionStyleModel",
          "state": {
            "_view_name": "StyleView",
            "_model_name": "DescriptionStyleModel",
            "description_width": "",
            "_view_module": "@jupyter-widgets/base",
            "_model_module_version": "1.5.0",
            "_view_count": null,
            "_view_module_version": "1.2.0",
            "_model_module": "@jupyter-widgets/controls"
          }
        },
        "a817883600da4c9c9e0f1a8c0682a017": {
          "model_module": "@jupyter-widgets/base",
          "model_name": "LayoutModel",
          "state": {
            "_view_name": "LayoutView",
            "grid_template_rows": null,
            "right": null,
            "justify_content": null,
            "_view_module": "@jupyter-widgets/base",
            "overflow": null,
            "_model_module_version": "1.2.0",
            "_view_count": null,
            "flex_flow": null,
            "width": null,
            "min_width": null,
            "border": null,
            "align_items": null,
            "bottom": null,
            "_model_module": "@jupyter-widgets/base",
            "top": null,
            "grid_column": null,
            "overflow_y": null,
            "overflow_x": null,
            "grid_auto_flow": null,
            "grid_area": null,
            "grid_template_columns": null,
            "flex": null,
            "_model_name": "LayoutModel",
            "justify_items": null,
            "grid_row": null,
            "max_height": null,
            "align_content": null,
            "visibility": null,
            "align_self": null,
            "height": null,
            "min_height": null,
            "padding": null,
            "grid_auto_rows": null,
            "grid_gap": null,
            "max_width": null,
            "order": null,
            "_view_module_version": "1.2.0",
            "grid_template_areas": null,
            "object_position": null,
            "object_fit": null,
            "grid_auto_columns": null,
            "margin": null,
            "display": null,
            "left": null
          }
        },
        "bcaa795d7c174577afbcbbac40d3071a": {
          "model_module": "@jupyter-widgets/controls",
          "model_name": "HBoxModel",
          "state": {
            "_view_name": "HBoxView",
            "_dom_classes": [],
            "_model_name": "HBoxModel",
            "_view_module": "@jupyter-widgets/controls",
            "_model_module_version": "1.5.0",
            "_view_count": null,
            "_view_module_version": "1.5.0",
            "box_style": "",
            "layout": "IPY_MODEL_45ba9960fccb4cc8ba0d8dae0798dbec",
            "_model_module": "@jupyter-widgets/controls",
            "children": [
              "IPY_MODEL_2e5d1ced13f74e729e53a46a76e4905a",
              "IPY_MODEL_9f8fa739cc5c47d3b79bab7b69368c0f"
            ]
          }
        },
        "45ba9960fccb4cc8ba0d8dae0798dbec": {
          "model_module": "@jupyter-widgets/base",
          "model_name": "LayoutModel",
          "state": {
            "_view_name": "LayoutView",
            "grid_template_rows": null,
            "right": null,
            "justify_content": null,
            "_view_module": "@jupyter-widgets/base",
            "overflow": null,
            "_model_module_version": "1.2.0",
            "_view_count": null,
            "flex_flow": null,
            "width": null,
            "min_width": null,
            "border": null,
            "align_items": null,
            "bottom": null,
            "_model_module": "@jupyter-widgets/base",
            "top": null,
            "grid_column": null,
            "overflow_y": null,
            "overflow_x": null,
            "grid_auto_flow": null,
            "grid_area": null,
            "grid_template_columns": null,
            "flex": null,
            "_model_name": "LayoutModel",
            "justify_items": null,
            "grid_row": null,
            "max_height": null,
            "align_content": null,
            "visibility": null,
            "align_self": null,
            "height": null,
            "min_height": null,
            "padding": null,
            "grid_auto_rows": null,
            "grid_gap": null,
            "max_width": null,
            "order": null,
            "_view_module_version": "1.2.0",
            "grid_template_areas": null,
            "object_position": null,
            "object_fit": null,
            "grid_auto_columns": null,
            "margin": null,
            "display": null,
            "left": null
          }
        },
        "2e5d1ced13f74e729e53a46a76e4905a": {
          "model_module": "@jupyter-widgets/controls",
          "model_name": "FloatProgressModel",
          "state": {
            "_view_name": "ProgressView",
            "style": "IPY_MODEL_94e332c9fc1c4ac2a3ad5ed7680cbed3",
            "_dom_classes": [],
            "description": "PGD - Batches: 100%",
            "_model_name": "FloatProgressModel",
            "bar_style": "",
            "max": 1875,
            "_view_module": "@jupyter-widgets/controls",
            "_model_module_version": "1.5.0",
            "value": 1875,
            "_view_count": null,
            "_view_module_version": "1.5.0",
            "orientation": "horizontal",
            "min": 0,
            "description_tooltip": null,
            "_model_module": "@jupyter-widgets/controls",
            "layout": "IPY_MODEL_1514bcb474cf4c3084cc0df05c594430"
          }
        },
        "9f8fa739cc5c47d3b79bab7b69368c0f": {
          "model_module": "@jupyter-widgets/controls",
          "model_name": "HTMLModel",
          "state": {
            "_view_name": "HTMLView",
            "style": "IPY_MODEL_398e0637261740698d67851c9fbf655b",
            "_dom_classes": [],
            "description": "",
            "_model_name": "HTMLModel",
            "placeholder": "​",
            "_view_module": "@jupyter-widgets/controls",
            "_model_module_version": "1.5.0",
            "value": " 1875/1875 [01:32&lt;00:00, 20.45it/s]",
            "_view_count": null,
            "_view_module_version": "1.5.0",
            "description_tooltip": null,
            "_model_module": "@jupyter-widgets/controls",
            "layout": "IPY_MODEL_9dd4860eef084f87a77c9986edc66e22"
          }
        },
        "94e332c9fc1c4ac2a3ad5ed7680cbed3": {
          "model_module": "@jupyter-widgets/controls",
          "model_name": "ProgressStyleModel",
          "state": {
            "_view_name": "StyleView",
            "_model_name": "ProgressStyleModel",
            "description_width": "initial",
            "_view_module": "@jupyter-widgets/base",
            "_model_module_version": "1.5.0",
            "_view_count": null,
            "_view_module_version": "1.2.0",
            "bar_color": null,
            "_model_module": "@jupyter-widgets/controls"
          }
        },
        "1514bcb474cf4c3084cc0df05c594430": {
          "model_module": "@jupyter-widgets/base",
          "model_name": "LayoutModel",
          "state": {
            "_view_name": "LayoutView",
            "grid_template_rows": null,
            "right": null,
            "justify_content": null,
            "_view_module": "@jupyter-widgets/base",
            "overflow": null,
            "_model_module_version": "1.2.0",
            "_view_count": null,
            "flex_flow": null,
            "width": null,
            "min_width": null,
            "border": null,
            "align_items": null,
            "bottom": null,
            "_model_module": "@jupyter-widgets/base",
            "top": null,
            "grid_column": null,
            "overflow_y": null,
            "overflow_x": null,
            "grid_auto_flow": null,
            "grid_area": null,
            "grid_template_columns": null,
            "flex": null,
            "_model_name": "LayoutModel",
            "justify_items": null,
            "grid_row": null,
            "max_height": null,
            "align_content": null,
            "visibility": null,
            "align_self": null,
            "height": null,
            "min_height": null,
            "padding": null,
            "grid_auto_rows": null,
            "grid_gap": null,
            "max_width": null,
            "order": null,
            "_view_module_version": "1.2.0",
            "grid_template_areas": null,
            "object_position": null,
            "object_fit": null,
            "grid_auto_columns": null,
            "margin": null,
            "display": null,
            "left": null
          }
        },
        "398e0637261740698d67851c9fbf655b": {
          "model_module": "@jupyter-widgets/controls",
          "model_name": "DescriptionStyleModel",
          "state": {
            "_view_name": "StyleView",
            "_model_name": "DescriptionStyleModel",
            "description_width": "",
            "_view_module": "@jupyter-widgets/base",
            "_model_module_version": "1.5.0",
            "_view_count": null,
            "_view_module_version": "1.2.0",
            "_model_module": "@jupyter-widgets/controls"
          }
        },
        "9dd4860eef084f87a77c9986edc66e22": {
          "model_module": "@jupyter-widgets/base",
          "model_name": "LayoutModel",
          "state": {
            "_view_name": "LayoutView",
            "grid_template_rows": null,
            "right": null,
            "justify_content": null,
            "_view_module": "@jupyter-widgets/base",
            "overflow": null,
            "_model_module_version": "1.2.0",
            "_view_count": null,
            "flex_flow": null,
            "width": null,
            "min_width": null,
            "border": null,
            "align_items": null,
            "bottom": null,
            "_model_module": "@jupyter-widgets/base",
            "top": null,
            "grid_column": null,
            "overflow_y": null,
            "overflow_x": null,
            "grid_auto_flow": null,
            "grid_area": null,
            "grid_template_columns": null,
            "flex": null,
            "_model_name": "LayoutModel",
            "justify_items": null,
            "grid_row": null,
            "max_height": null,
            "align_content": null,
            "visibility": null,
            "align_self": null,
            "height": null,
            "min_height": null,
            "padding": null,
            "grid_auto_rows": null,
            "grid_gap": null,
            "max_width": null,
            "order": null,
            "_view_module_version": "1.2.0",
            "grid_template_areas": null,
            "object_position": null,
            "object_fit": null,
            "grid_auto_columns": null,
            "margin": null,
            "display": null,
            "left": null
          }
        },
        "153a3e1f819e4114bcb8042515aadb35": {
          "model_module": "@jupyter-widgets/controls",
          "model_name": "HBoxModel",
          "state": {
            "_view_name": "HBoxView",
            "_dom_classes": [],
            "_model_name": "HBoxModel",
            "_view_module": "@jupyter-widgets/controls",
            "_model_module_version": "1.5.0",
            "_view_count": null,
            "_view_module_version": "1.5.0",
            "box_style": "",
            "layout": "IPY_MODEL_539fa09d783543c997d61b1487e7c642",
            "_model_module": "@jupyter-widgets/controls",
            "children": [
              "IPY_MODEL_40d005a7966543fda360d2dcfb05a3b1",
              "IPY_MODEL_2999fd01624b4eeb8d520f3ef86199c2"
            ]
          }
        },
        "539fa09d783543c997d61b1487e7c642": {
          "model_module": "@jupyter-widgets/base",
          "model_name": "LayoutModel",
          "state": {
            "_view_name": "LayoutView",
            "grid_template_rows": null,
            "right": null,
            "justify_content": null,
            "_view_module": "@jupyter-widgets/base",
            "overflow": null,
            "_model_module_version": "1.2.0",
            "_view_count": null,
            "flex_flow": null,
            "width": null,
            "min_width": null,
            "border": null,
            "align_items": null,
            "bottom": null,
            "_model_module": "@jupyter-widgets/base",
            "top": null,
            "grid_column": null,
            "overflow_y": null,
            "overflow_x": null,
            "grid_auto_flow": null,
            "grid_area": null,
            "grid_template_columns": null,
            "flex": null,
            "_model_name": "LayoutModel",
            "justify_items": null,
            "grid_row": null,
            "max_height": null,
            "align_content": null,
            "visibility": null,
            "align_self": null,
            "height": null,
            "min_height": null,
            "padding": null,
            "grid_auto_rows": null,
            "grid_gap": null,
            "max_width": null,
            "order": null,
            "_view_module_version": "1.2.0",
            "grid_template_areas": null,
            "object_position": null,
            "object_fit": null,
            "grid_auto_columns": null,
            "margin": null,
            "display": null,
            "left": null
          }
        },
        "40d005a7966543fda360d2dcfb05a3b1": {
          "model_module": "@jupyter-widgets/controls",
          "model_name": "FloatProgressModel",
          "state": {
            "_view_name": "ProgressView",
            "style": "IPY_MODEL_91349791b8454c9d81d9f9c5ff4e27c0",
            "_dom_classes": [],
            "description": "PGD - Batches: 100%",
            "_model_name": "FloatProgressModel",
            "bar_style": "",
            "max": 1875,
            "_view_module": "@jupyter-widgets/controls",
            "_model_module_version": "1.5.0",
            "value": 1875,
            "_view_count": null,
            "_view_module_version": "1.5.0",
            "orientation": "horizontal",
            "min": 0,
            "description_tooltip": null,
            "_model_module": "@jupyter-widgets/controls",
            "layout": "IPY_MODEL_9ea9776eafda47a1a0213930a8a74d3d"
          }
        },
        "2999fd01624b4eeb8d520f3ef86199c2": {
          "model_module": "@jupyter-widgets/controls",
          "model_name": "HTMLModel",
          "state": {
            "_view_name": "HTMLView",
            "style": "IPY_MODEL_ceb9cd10f8ae4338a09a23ad0132c77c",
            "_dom_classes": [],
            "description": "",
            "_model_name": "HTMLModel",
            "placeholder": "​",
            "_view_module": "@jupyter-widgets/controls",
            "_model_module_version": "1.5.0",
            "value": " 1875/1875 [01:32&lt;00:00, 20.25it/s]",
            "_view_count": null,
            "_view_module_version": "1.5.0",
            "description_tooltip": null,
            "_model_module": "@jupyter-widgets/controls",
            "layout": "IPY_MODEL_24527b207bfd405eb27c362bd2dd5394"
          }
        },
        "91349791b8454c9d81d9f9c5ff4e27c0": {
          "model_module": "@jupyter-widgets/controls",
          "model_name": "ProgressStyleModel",
          "state": {
            "_view_name": "StyleView",
            "_model_name": "ProgressStyleModel",
            "description_width": "initial",
            "_view_module": "@jupyter-widgets/base",
            "_model_module_version": "1.5.0",
            "_view_count": null,
            "_view_module_version": "1.2.0",
            "bar_color": null,
            "_model_module": "@jupyter-widgets/controls"
          }
        },
        "9ea9776eafda47a1a0213930a8a74d3d": {
          "model_module": "@jupyter-widgets/base",
          "model_name": "LayoutModel",
          "state": {
            "_view_name": "LayoutView",
            "grid_template_rows": null,
            "right": null,
            "justify_content": null,
            "_view_module": "@jupyter-widgets/base",
            "overflow": null,
            "_model_module_version": "1.2.0",
            "_view_count": null,
            "flex_flow": null,
            "width": null,
            "min_width": null,
            "border": null,
            "align_items": null,
            "bottom": null,
            "_model_module": "@jupyter-widgets/base",
            "top": null,
            "grid_column": null,
            "overflow_y": null,
            "overflow_x": null,
            "grid_auto_flow": null,
            "grid_area": null,
            "grid_template_columns": null,
            "flex": null,
            "_model_name": "LayoutModel",
            "justify_items": null,
            "grid_row": null,
            "max_height": null,
            "align_content": null,
            "visibility": null,
            "align_self": null,
            "height": null,
            "min_height": null,
            "padding": null,
            "grid_auto_rows": null,
            "grid_gap": null,
            "max_width": null,
            "order": null,
            "_view_module_version": "1.2.0",
            "grid_template_areas": null,
            "object_position": null,
            "object_fit": null,
            "grid_auto_columns": null,
            "margin": null,
            "display": null,
            "left": null
          }
        },
        "ceb9cd10f8ae4338a09a23ad0132c77c": {
          "model_module": "@jupyter-widgets/controls",
          "model_name": "DescriptionStyleModel",
          "state": {
            "_view_name": "StyleView",
            "_model_name": "DescriptionStyleModel",
            "description_width": "",
            "_view_module": "@jupyter-widgets/base",
            "_model_module_version": "1.5.0",
            "_view_count": null,
            "_view_module_version": "1.2.0",
            "_model_module": "@jupyter-widgets/controls"
          }
        },
        "24527b207bfd405eb27c362bd2dd5394": {
          "model_module": "@jupyter-widgets/base",
          "model_name": "LayoutModel",
          "state": {
            "_view_name": "LayoutView",
            "grid_template_rows": null,
            "right": null,
            "justify_content": null,
            "_view_module": "@jupyter-widgets/base",
            "overflow": null,
            "_model_module_version": "1.2.0",
            "_view_count": null,
            "flex_flow": null,
            "width": null,
            "min_width": null,
            "border": null,
            "align_items": null,
            "bottom": null,
            "_model_module": "@jupyter-widgets/base",
            "top": null,
            "grid_column": null,
            "overflow_y": null,
            "overflow_x": null,
            "grid_auto_flow": null,
            "grid_area": null,
            "grid_template_columns": null,
            "flex": null,
            "_model_name": "LayoutModel",
            "justify_items": null,
            "grid_row": null,
            "max_height": null,
            "align_content": null,
            "visibility": null,
            "align_self": null,
            "height": null,
            "min_height": null,
            "padding": null,
            "grid_auto_rows": null,
            "grid_gap": null,
            "max_width": null,
            "order": null,
            "_view_module_version": "1.2.0",
            "grid_template_areas": null,
            "object_position": null,
            "object_fit": null,
            "grid_auto_columns": null,
            "margin": null,
            "display": null,
            "left": null
          }
        }
      }
    }
  },
  "cells": [
    {
      "cell_type": "markdown",
      "metadata": {
        "id": "TOBobDVUItGg"
      },
      "source": [
        "# Transferability"
      ]
    },
    {
      "cell_type": "markdown",
      "metadata": {
        "id": "sJA4CbGoshe9"
      },
      "source": [
        "Section 1: set up models"
      ]
    },
    {
      "cell_type": "code",
      "metadata": {
        "colab": {
          "base_uri": "https://localhost:8080/"
        },
        "id": "_bHH-LCSF78z",
        "outputId": "703b3e57-961a-4c87-d648-399d09c44e98"
      },
      "source": [
        "!pip install adversarial-robustness-toolbox"
      ],
      "execution_count": null,
      "outputs": [
        {
          "output_type": "stream",
          "text": [
            "Collecting adversarial-robustness-toolbox\n",
            "\u001b[?25l  Downloading https://files.pythonhosted.org/packages/b0/56/a37724bf9095797ebda77e934c7ad606b96dbf568a0ffd3ca33617c0f989/adversarial_robustness_toolbox-1.5.1-py3-none-any.whl (890kB)\n",
            "\u001b[K     |████████████████████████████████| 890kB 6.6MB/s \n",
            "\u001b[?25hRequirement already satisfied: scipy>=1.4.1 in /usr/local/lib/python3.6/dist-packages (from adversarial-robustness-toolbox) (1.4.1)\n",
            "Collecting mypy\n",
            "\u001b[?25l  Downloading https://files.pythonhosted.org/packages/11/53/8f73bf4726e42d049ef4855c5f047c9b12c4ac372ecfe38c761d4986296b/mypy-0.800-cp36-cp36m-manylinux2010_x86_64.whl (21.6MB)\n",
            "\u001b[K     |████████████████████████████████| 21.6MB 10.7MB/s \n",
            "\u001b[?25hCollecting cma\n",
            "\u001b[?25l  Downloading https://files.pythonhosted.org/packages/36/c0/0a1c41f7cad0a51e07991cf86423d0e6651d035f1fe7dcff48e8858848f2/cma-3.0.3-py2.py3-none-any.whl (230kB)\n",
            "\u001b[K     |████████████████████████████████| 235kB 57.6MB/s \n",
            "\u001b[?25hRequirement already satisfied: tqdm in /usr/local/lib/python3.6/dist-packages (from adversarial-robustness-toolbox) (4.41.1)\n",
            "Requirement already satisfied: statsmodels in /usr/local/lib/python3.6/dist-packages (from adversarial-robustness-toolbox) (0.10.2)\n",
            "Requirement already satisfied: matplotlib in /usr/local/lib/python3.6/dist-packages (from adversarial-robustness-toolbox) (3.2.2)\n",
            "Collecting scikit-learn==0.23.*,>=0.22.2\n",
            "\u001b[?25l  Downloading https://files.pythonhosted.org/packages/5c/a1/273def87037a7fb010512bbc5901c31cfddfca8080bc63b42b26e3cc55b3/scikit_learn-0.23.2-cp36-cp36m-manylinux1_x86_64.whl (6.8MB)\n",
            "\u001b[K     |████████████████████████████████| 6.8MB 48.5MB/s \n",
            "\u001b[?25hRequirement already satisfied: resampy in /usr/local/lib/python3.6/dist-packages (from adversarial-robustness-toolbox) (0.2.2)\n",
            "Requirement already satisfied: Pillow in /usr/local/lib/python3.6/dist-packages (from adversarial-robustness-toolbox) (7.0.0)\n",
            "Collecting ffmpeg-python\n",
            "  Downloading https://files.pythonhosted.org/packages/d7/0c/56be52741f75bad4dc6555991fabd2e07b432d333da82c11ad701123888a/ffmpeg_python-0.2.0-py3-none-any.whl\n",
            "Collecting pydub\n",
            "  Downloading https://files.pythonhosted.org/packages/7b/d1/fbfa79371a8cd9bb15c2e3c480d7e6e340ed5cc55005174e16f48418333a/pydub-0.24.1-py2.py3-none-any.whl\n",
            "Requirement already satisfied: setuptools in /usr/local/lib/python3.6/dist-packages (from adversarial-robustness-toolbox) (53.0.0)\n",
            "Requirement already satisfied: numpy in /usr/local/lib/python3.6/dist-packages (from adversarial-robustness-toolbox) (1.19.5)\n",
            "Requirement already satisfied: six in /usr/local/lib/python3.6/dist-packages (from adversarial-robustness-toolbox) (1.15.0)\n",
            "Requirement already satisfied: typing-extensions>=3.7.4 in /usr/local/lib/python3.6/dist-packages (from mypy->adversarial-robustness-toolbox) (3.7.4.3)\n",
            "Collecting mypy-extensions<0.5.0,>=0.4.3\n",
            "  Downloading https://files.pythonhosted.org/packages/5c/eb/975c7c080f3223a5cdaff09612f3a5221e4ba534f7039db34c35d95fa6a5/mypy_extensions-0.4.3-py2.py3-none-any.whl\n",
            "Collecting typed-ast<1.5.0,>=1.4.0\n",
            "\u001b[?25l  Downloading https://files.pythonhosted.org/packages/56/c1/4cc3c0da2374963f59b2f57ef02e048cdc4f609cbc1184b4146d0812e5b5/typed_ast-1.4.2-cp36-cp36m-manylinux1_x86_64.whl (743kB)\n",
            "\u001b[K     |████████████████████████████████| 747kB 53.6MB/s \n",
            "\u001b[?25hRequirement already satisfied: pandas>=0.19 in /usr/local/lib/python3.6/dist-packages (from statsmodels->adversarial-robustness-toolbox) (1.1.5)\n",
            "Requirement already satisfied: patsy>=0.4.0 in /usr/local/lib/python3.6/dist-packages (from statsmodels->adversarial-robustness-toolbox) (0.5.1)\n",
            "Requirement already satisfied: pyparsing!=2.0.4,!=2.1.2,!=2.1.6,>=2.0.1 in /usr/local/lib/python3.6/dist-packages (from matplotlib->adversarial-robustness-toolbox) (2.4.7)\n",
            "Requirement already satisfied: kiwisolver>=1.0.1 in /usr/local/lib/python3.6/dist-packages (from matplotlib->adversarial-robustness-toolbox) (1.3.1)\n",
            "Requirement already satisfied: python-dateutil>=2.1 in /usr/local/lib/python3.6/dist-packages (from matplotlib->adversarial-robustness-toolbox) (2.8.1)\n",
            "Requirement already satisfied: cycler>=0.10 in /usr/local/lib/python3.6/dist-packages (from matplotlib->adversarial-robustness-toolbox) (0.10.0)\n",
            "Collecting threadpoolctl>=2.0.0\n",
            "  Downloading https://files.pythonhosted.org/packages/f7/12/ec3f2e203afa394a149911729357aa48affc59c20e2c1c8297a60f33f133/threadpoolctl-2.1.0-py3-none-any.whl\n",
            "Requirement already satisfied: joblib>=0.11 in /usr/local/lib/python3.6/dist-packages (from scikit-learn==0.23.*,>=0.22.2->adversarial-robustness-toolbox) (1.0.0)\n",
            "Requirement already satisfied: numba>=0.32 in /usr/local/lib/python3.6/dist-packages (from resampy->adversarial-robustness-toolbox) (0.51.2)\n",
            "Requirement already satisfied: future in /usr/local/lib/python3.6/dist-packages (from ffmpeg-python->adversarial-robustness-toolbox) (0.16.0)\n",
            "Requirement already satisfied: pytz>=2017.2 in /usr/local/lib/python3.6/dist-packages (from pandas>=0.19->statsmodels->adversarial-robustness-toolbox) (2018.9)\n",
            "Requirement already satisfied: llvmlite<0.35,>=0.34.0.dev0 in /usr/local/lib/python3.6/dist-packages (from numba>=0.32->resampy->adversarial-robustness-toolbox) (0.34.0)\n",
            "Installing collected packages: mypy-extensions, typed-ast, mypy, cma, threadpoolctl, scikit-learn, ffmpeg-python, pydub, adversarial-robustness-toolbox\n",
            "  Found existing installation: scikit-learn 0.22.2.post1\n",
            "    Uninstalling scikit-learn-0.22.2.post1:\n",
            "      Successfully uninstalled scikit-learn-0.22.2.post1\n",
            "Successfully installed adversarial-robustness-toolbox-1.5.1 cma-3.0.3 ffmpeg-python-0.2.0 mypy-0.800 mypy-extensions-0.4.3 pydub-0.24.1 scikit-learn-0.23.2 threadpoolctl-2.1.0 typed-ast-1.4.2\n"
          ],
          "name": "stdout"
        }
      ]
    },
    {
      "cell_type": "code",
      "metadata": {
        "id": "NLtKt9c_IULb"
      },
      "source": [
        "import torch\r\n",
        "import torch.nn as nn\r\n",
        "import torch.nn.functional as F\r\n",
        "import torch.optim as optim\r\n",
        "# From ATTA\r\n",
        "import torchvision\r\n",
        "from torch.autograd import Variable\r\n",
        "from torchvision import datasets, transforms\r\n",
        "\r\n",
        "import matplotlib\r\n",
        "import matplotlib.pyplot as plt\r\n",
        "import numpy as np\r\n",
        "\r\n",
        "from art.attacks.evasion import FastGradientMethod, ProjectedGradientDescentPyTorch\r\n",
        "from art.estimators.classification import PyTorchClassifier\r\n",
        "from art.utils import load_mnist\r\n",
        "\r\n",
        "%matplotlib inline"
      ],
      "execution_count": null,
      "outputs": []
    },
    {
      "cell_type": "code",
      "metadata": {
        "id": "YVvoFIcfIq6N"
      },
      "source": [
        "# Step 0: Define the neural network model, return logits instead of activation in forward method\r\n",
        "\r\n",
        "class Net(nn.Module):\r\n",
        "    def __init__(self):\r\n",
        "        super(Net, self).__init__()\r\n",
        "        self.conv_1 = nn.Conv2d(in_channels=1, out_channels=4, kernel_size=5, stride=1)\r\n",
        "        self.conv_2 = nn.Conv2d(in_channels=4, out_channels=10, kernel_size=5, stride=1)\r\n",
        "        self.fc_1 = nn.Linear(in_features=4 * 4 * 10, out_features=100)\r\n",
        "        self.fc_2 = nn.Linear(in_features=100, out_features=10)\r\n",
        "\r\n",
        "    def forward(self, x):\r\n",
        "        x = F.relu(self.conv_1(x))\r\n",
        "        x = F.max_pool2d(x, 2, 2)\r\n",
        "        x = F.relu(self.conv_2(x))\r\n",
        "        x = F.max_pool2d(x, 2, 2)\r\n",
        "        x = x.view(-1, 4 * 4 * 10)\r\n",
        "        x = F.relu(self.fc_1(x))\r\n",
        "        x = self.fc_2(x)\r\n",
        "        return x\r\n",
        "\r\n",
        "\r\n",
        "# Step 1: Load the MNIST dataset\r\n",
        "\r\n",
        "(x_train, y_train), (x_test, y_test), min_pixel_value, max_pixel_value = load_mnist()\r\n",
        "\r\n",
        "# Step 1a: Swap axes to PyTorch's NCHW format\r\n",
        "\r\n",
        "x_train = np.swapaxes(x_train, 1, 3).astype(np.float32)\r\n",
        "x_test = np.swapaxes(x_test, 1, 3).astype(np.float32)\r\n",
        "\r\n",
        "# Step 2: Create the model\r\n",
        "device = torch.device('cuda' if torch.cuda.is_available() else 'cpu')\r\n",
        "model = Net().to(device)\r\n",
        "\r\n",
        "# Step 2a: Define the loss function and the optimizer\r\n",
        "\r\n",
        "criterion = nn.CrossEntropyLoss()\r\n",
        "optimizer = optim.Adam(model.parameters(), lr=0.01)\r\n",
        "\r\n",
        "# Step 3: Create the ART classifier\r\n",
        "\r\n",
        "classifier = PyTorchClassifier(\r\n",
        "    model=model,\r\n",
        "    clip_values=(min_pixel_value, max_pixel_value),\r\n",
        "    loss=criterion,\r\n",
        "    optimizer=optimizer,\r\n",
        "    input_shape=(1, 28, 28),\r\n",
        "    nb_classes=10,\r\n",
        ")\r\n"
      ],
      "execution_count": null,
      "outputs": []
    },
    {
      "cell_type": "code",
      "metadata": {
        "id": "apiB_j3Ut2LV"
      },
      "source": [
        "# set up PGD-20 attack\r\n",
        "eps = 0.2\r\n",
        "attack = ProjectedGradientDescentPyTorch(\r\n",
        "        estimator=classifier,\r\n",
        "        norm=\"inf\",\r\n",
        "        eps=eps,\r\n",
        "        eps_step=0.05,\r\n",
        "        max_iter=20\r\n",
        "    )"
      ],
      "execution_count": null,
      "outputs": []
    },
    {
      "cell_type": "markdown",
      "metadata": {
        "id": "7I_OhVyZspn3"
      },
      "source": [
        "Section 2: using PGD-20 to adversarially train a classifier"
      ]
    },
    {
      "cell_type": "code",
      "metadata": {
        "colab": {
          "base_uri": "https://localhost:8080/",
          "height": 121,
          "referenced_widgets": [
            "7d6f47e178494fffa62599f125162bb7",
            "d124130d022a4f0ca1c0aac814f12821",
            "3019021dcc114e4eb189956b47651657",
            "bf744be6b4634f1eb0b59ba44cdad663",
            "8e5ed21699fa4386aaebf1c6d9e19e9b",
            "15e3d0c263334253801c0119cb53f3e1",
            "74e498c29cd14ac38c8b4677913579b3",
            "041ac887c93c41a58d3ef9e797f07297"
          ]
        },
        "id": "BgQnyvIwGhlM",
        "outputId": "b093e0c1-c16c-4a8a-daff-7e30d1adad62"
      },
      "source": [
        "# Step 4: Adv train, get T1\r\n",
        "\r\n",
        "x_train_adv_1 = attack.generate(x=x_train)\r\n",
        "classifier.fit(x_train_adv_1, y_train, batch_size=64, nb_epochs=1)\r\n",
        "\r\n",
        "# Step 5: Evaluate the ART classifier on benign test examples\r\n",
        "\r\n",
        "predictions = classifier.predict(x_test)\r\n",
        "accuracy = np.sum(np.argmax(predictions, axis=1) == np.argmax(y_test, axis=1)) / len(y_test)\r\n",
        "print(\"Accuracy on benign test examples: {}%\".format(accuracy * 100))"
      ],
      "execution_count": null,
      "outputs": [
        {
          "output_type": "display_data",
          "data": {
            "application/vnd.jupyter.widget-view+json": {
              "model_id": "7d6f47e178494fffa62599f125162bb7",
              "version_minor": 0,
              "version_major": 2
            },
            "text/plain": [
              "HBox(children=(FloatProgress(value=0.0, description='PGD - Batches', max=1875.0, style=ProgressStyle(descripti…"
            ]
          },
          "metadata": {
            "tags": []
          }
        },
        {
          "output_type": "stream",
          "text": [
            "/usr/local/lib/python3.6/dist-packages/art/estimators/classification/pytorch.py:525: UserWarning: To copy construct from a tensor, it is recommended to use sourceTensor.clone().detach() or sourceTensor.clone().detach().requires_grad_(True), rather than torch.tensor(sourceTensor).\n",
            "  x_grad = torch.tensor(x).to(self._device)\n",
            "/usr/local/lib/python3.6/dist-packages/art/estimators/classification/pytorch.py:526: UserWarning: To copy construct from a tensor, it is recommended to use sourceTensor.clone().detach() or sourceTensor.clone().detach().requires_grad_(True), rather than torch.tensor(sourceTensor).\n",
            "  y_grad = torch.tensor(y).to(self._device)\n"
          ],
          "name": "stderr"
        },
        {
          "output_type": "stream",
          "text": [
            "\rAccuracy on benign test examples: 96.87%\n"
          ],
          "name": "stdout"
        }
      ]
    },
    {
      "cell_type": "code",
      "metadata": {
        "colab": {
          "base_uri": "https://localhost:8080/"
        },
        "id": "OjofuuZrelfs",
        "outputId": "9bfa3886-64b1-498a-946c-3a827c70b3d2"
      },
      "source": [
        "y_label = np.argmax(y_train, axis=1)\r\n",
        "y_label_tensor = torch.from_numpy(y_label.astype(np.int_)).to(device)\r\n",
        "\r\n",
        "# Calculate loss\r\n",
        "adv_predictions_1 = classifier.predict(x_train_adv_1)\r\n",
        "x_adv_tensor = torch.from_numpy(x_train_adv_1).to(device)\r\n",
        "loss_adv_1 = criterion(model(x_adv_tensor), y_label_tensor)\r\n",
        "err_adv_1 = np.sum(np.argmax(adv_predictions_1, axis=1) != np.argmax(y_train, axis=1))\r\n",
        "accuracy = 1 - err_adv_1 / len(y_train)\r\n",
        "print(loss_adv_1, err_adv_1, accuracy)"
      ],
      "execution_count": null,
      "outputs": [
        {
          "output_type": "stream",
          "text": [
            "tensor(0.1039, device='cuda:0', grad_fn=<NllLossBackward>) 1962 0.9673\n"
          ],
          "name": "stdout"
        }
      ]
    },
    {
      "cell_type": "code",
      "metadata": {
        "colab": {
          "base_uri": "https://localhost:8080/",
          "height": 138,
          "referenced_widgets": [
            "99c72789586a47419679d67387dd64bf",
            "38bec1e8270b4b4c93c5b5f210840e74",
            "5dae2b8266d046059dc79a457e783191",
            "3da2bcef0e7f4532b20e761145667dec",
            "5622f55b6fdf49f6abf865d95ae6a85d",
            "c771d60f3db04ab6a9fd13ee11e3f404",
            "4191c431022241898b6d63544f62dd39",
            "a817883600da4c9c9e0f1a8c0682a017"
          ]
        },
        "id": "WVg4ve611ny0",
        "outputId": "ce0a4170-c3bc-4ac0-f86c-e17e54e53d95"
      },
      "source": [
        "# Adv Epoch 2\r\n",
        "\r\n",
        "x_train_adv_2 = attack.generate(x=x_train)\r\n",
        "classifier.fit(x_train_adv_2, y_train, batch_size=64, nb_epochs=1)\r\n",
        "\r\n",
        "# Step 5: Evaluate the ART classifier on benign test examples\r\n",
        "\r\n",
        "predictions = classifier.predict(x_test)\r\n",
        "accuracy = np.sum(np.argmax(predictions, axis=1) == np.argmax(y_test, axis=1)) / len(y_test)\r\n",
        "print(\"Accuracy on benign test examples: {}%\".format(accuracy * 100))\r\n",
        "\r\n",
        "# Calculate loss\r\n",
        "adv_predictions_2 = classifier.predict(x_train_adv_2)\r\n",
        "x_adv_tensor = torch.from_numpy(x_train_adv_2).to(device)\r\n",
        "loss_adv_2 = criterion(model(x_adv_tensor), y_label_tensor)\r\n",
        "err_adv_2 = np.sum(np.argmax(adv_predictions_2, axis=1) != np.argmax(y_train, axis=1))\r\n",
        "print(\"adv epoch 2 :\", loss_adv_2)"
      ],
      "execution_count": null,
      "outputs": [
        {
          "output_type": "display_data",
          "data": {
            "application/vnd.jupyter.widget-view+json": {
              "model_id": "99c72789586a47419679d67387dd64bf",
              "version_minor": 0,
              "version_major": 2
            },
            "text/plain": [
              "HBox(children=(FloatProgress(value=0.0, description='PGD - Batches', max=1875.0, style=ProgressStyle(descripti…"
            ]
          },
          "metadata": {
            "tags": []
          }
        },
        {
          "output_type": "stream",
          "text": [
            "/usr/local/lib/python3.6/dist-packages/art/estimators/classification/pytorch.py:525: UserWarning: To copy construct from a tensor, it is recommended to use sourceTensor.clone().detach() or sourceTensor.clone().detach().requires_grad_(True), rather than torch.tensor(sourceTensor).\n",
            "  x_grad = torch.tensor(x).to(self._device)\n",
            "/usr/local/lib/python3.6/dist-packages/art/estimators/classification/pytorch.py:526: UserWarning: To copy construct from a tensor, it is recommended to use sourceTensor.clone().detach() or sourceTensor.clone().detach().requires_grad_(True), rather than torch.tensor(sourceTensor).\n",
            "  y_grad = torch.tensor(y).to(self._device)\n"
          ],
          "name": "stderr"
        },
        {
          "output_type": "stream",
          "text": [
            "\rAccuracy on benign test examples: 96.33%\n",
            "adv epoch 2 : tensor(0.1914, device='cuda:0', grad_fn=<NllLossBackward>)\n"
          ],
          "name": "stdout"
        }
      ]
    },
    {
      "cell_type": "code",
      "metadata": {
        "colab": {
          "base_uri": "https://localhost:8080/",
          "height": 138,
          "referenced_widgets": [
            "bcaa795d7c174577afbcbbac40d3071a",
            "45ba9960fccb4cc8ba0d8dae0798dbec",
            "2e5d1ced13f74e729e53a46a76e4905a",
            "9f8fa739cc5c47d3b79bab7b69368c0f",
            "94e332c9fc1c4ac2a3ad5ed7680cbed3",
            "1514bcb474cf4c3084cc0df05c594430",
            "398e0637261740698d67851c9fbf655b",
            "9dd4860eef084f87a77c9986edc66e22"
          ]
        },
        "id": "_7igCwJJ7moA",
        "outputId": "1d10c570-c1cb-4af6-a975-3b36819b5588"
      },
      "source": [
        "# Adv Epoch 3\r\n",
        "\r\n",
        "x_train_adv_3 = attack.generate(x=x_train)\r\n",
        "classifier.fit(x_train_adv_3, y_train, batch_size=64, nb_epochs=1)\r\n",
        "\r\n",
        "# Step 5: Evaluate the ART classifier on benign test examples\r\n",
        "\r\n",
        "predictions = classifier.predict(x_test)\r\n",
        "accuracy = np.sum(np.argmax(predictions, axis=1) == np.argmax(y_test, axis=1)) / len(y_test)\r\n",
        "print(\"Accuracy on benign test examples: {}%\".format(accuracy * 100))\r\n",
        "\r\n",
        "# Calculate loss\r\n",
        "adv_predictions_3 = classifier.predict(x_train_adv_3)\r\n",
        "x_adv_tensor = torch.from_numpy(x_train_adv_3).to(device)\r\n",
        "loss_adv_3 = criterion(model(x_adv_tensor), y_label_tensor)\r\n",
        "err_adv_3 = np.sum(np.argmax(adv_predictions_3, axis=1) != np.argmax(y_train, axis=1))\r\n",
        "print(\"adv loss epoch 3 :\", loss_adv_3)"
      ],
      "execution_count": null,
      "outputs": [
        {
          "output_type": "display_data",
          "data": {
            "application/vnd.jupyter.widget-view+json": {
              "model_id": "bcaa795d7c174577afbcbbac40d3071a",
              "version_minor": 0,
              "version_major": 2
            },
            "text/plain": [
              "HBox(children=(FloatProgress(value=0.0, description='PGD - Batches', max=1875.0, style=ProgressStyle(descripti…"
            ]
          },
          "metadata": {
            "tags": []
          }
        },
        {
          "output_type": "stream",
          "text": [
            "/usr/local/lib/python3.6/dist-packages/art/estimators/classification/pytorch.py:525: UserWarning: To copy construct from a tensor, it is recommended to use sourceTensor.clone().detach() or sourceTensor.clone().detach().requires_grad_(True), rather than torch.tensor(sourceTensor).\n",
            "  x_grad = torch.tensor(x).to(self._device)\n",
            "/usr/local/lib/python3.6/dist-packages/art/estimators/classification/pytorch.py:526: UserWarning: To copy construct from a tensor, it is recommended to use sourceTensor.clone().detach() or sourceTensor.clone().detach().requires_grad_(True), rather than torch.tensor(sourceTensor).\n",
            "  y_grad = torch.tensor(y).to(self._device)\n"
          ],
          "name": "stderr"
        },
        {
          "output_type": "stream",
          "text": [
            "\rAccuracy on benign test examples: 96.38%\n",
            "adv loss epoch 3 : tensor(0.1277, device='cuda:0', grad_fn=<NllLossBackward>)\n"
          ],
          "name": "stdout"
        }
      ]
    },
    {
      "cell_type": "code",
      "metadata": {
        "colab": {
          "base_uri": "https://localhost:8080/",
          "height": 138,
          "referenced_widgets": [
            "153a3e1f819e4114bcb8042515aadb35",
            "539fa09d783543c997d61b1487e7c642",
            "40d005a7966543fda360d2dcfb05a3b1",
            "2999fd01624b4eeb8d520f3ef86199c2",
            "91349791b8454c9d81d9f9c5ff4e27c0",
            "9ea9776eafda47a1a0213930a8a74d3d",
            "ceb9cd10f8ae4338a09a23ad0132c77c",
            "24527b207bfd405eb27c362bd2dd5394"
          ]
        },
        "id": "S4jwWxQkVfAP",
        "outputId": "1f0cde08-db99-41b8-d875-a40ec39403ef"
      },
      "source": [
        "# Adv Epoch 4\r\n",
        "\r\n",
        "x_train_adv_4 = attack.generate(x=x_train)\r\n",
        "classifier.fit(x_train_adv_4, y_train, batch_size=64, nb_epochs=1)\r\n",
        "\r\n",
        "# Step 5: Evaluate the ART classifier on benign test examples\r\n",
        "\r\n",
        "predictions = classifier.predict(x_test)\r\n",
        "accuracy = np.sum(np.argmax(predictions, axis=1) == np.argmax(y_test, axis=1)) / len(y_test)\r\n",
        "print(\"Accuracy on benign test examples: {}%\".format(accuracy * 100))\r\n",
        "\r\n",
        "# Calculate loss\r\n",
        "adv_predictions_4 = classifier.predict(x_train_adv_4)\r\n",
        "x_adv_tensor = torch.from_numpy(x_train_adv_4).to(device)\r\n",
        "loss_adv_4 = criterion(model(x_adv_tensor), y_label_tensor)\r\n",
        "print(\"adv loss epoch 4 :\", loss_adv_4)"
      ],
      "execution_count": null,
      "outputs": [
        {
          "output_type": "display_data",
          "data": {
            "application/vnd.jupyter.widget-view+json": {
              "model_id": "153a3e1f819e4114bcb8042515aadb35",
              "version_minor": 0,
              "version_major": 2
            },
            "text/plain": [
              "HBox(children=(FloatProgress(value=0.0, description='PGD - Batches', max=1875.0, style=ProgressStyle(descripti…"
            ]
          },
          "metadata": {
            "tags": []
          }
        },
        {
          "output_type": "stream",
          "text": [
            "/usr/local/lib/python3.6/dist-packages/art/estimators/classification/pytorch.py:525: UserWarning: To copy construct from a tensor, it is recommended to use sourceTensor.clone().detach() or sourceTensor.clone().detach().requires_grad_(True), rather than torch.tensor(sourceTensor).\n",
            "  x_grad = torch.tensor(x).to(self._device)\n",
            "/usr/local/lib/python3.6/dist-packages/art/estimators/classification/pytorch.py:526: UserWarning: To copy construct from a tensor, it is recommended to use sourceTensor.clone().detach() or sourceTensor.clone().detach().requires_grad_(True), rather than torch.tensor(sourceTensor).\n",
            "  y_grad = torch.tensor(y).to(self._device)\n"
          ],
          "name": "stderr"
        },
        {
          "output_type": "stream",
          "text": [
            "\rAccuracy on benign test examples: 97.05%\n",
            "adv loss epoch 4 : tensor(0.1232, device='cuda:0', grad_fn=<NllLossBackward>)\n"
          ],
          "name": "stdout"
        }
      ]
    },
    {
      "cell_type": "markdown",
      "metadata": {
        "id": "Xbb-JVIes0VR"
      },
      "source": [
        "Section 3: calculate the loss and error transferability "
      ]
    },
    {
      "cell_type": "code",
      "metadata": {
        "id": "3Cwhc0Q6c1hf"
      },
      "source": [
        "loss_ratios = []\r\n",
        "err_ratios = []\r\n",
        "# calculate loss(adv1, T4)/loss(adv1, T1)\r\n",
        "x_adv_tensor = torch.from_numpy(x_train_adv_1).to(device)\r\n",
        "loss_adv_14 = criterion(model(x_adv_tensor), y_label_tensor)\r\n",
        "ls14 = loss_adv_14.cpu().clone().detach().numpy()\r\n",
        "ls11 = loss_adv_1.cpu().clone().detach().numpy()\r\n",
        "loss_ratios.append(ls14/ls11)\r\n",
        "\r\n",
        "# calculate err(adv1, T4)/err(adv1, T1)\r\n",
        "adv_predictions_14 = classifier.predict(x_train_adv_1)\r\n",
        "err_adv_14 = np.sum(np.argmax(adv_predictions_14, axis=1) != np.argmax(y_train, axis=1))\r\n",
        "err_ratios.append(err_adv_14/err_adv_1)\r\n",
        "\r\n",
        "# calculate loss(adv2, T4)/loss(adv2, T2)\r\n",
        "x_adv_tensor = torch.from_numpy(x_train_adv_2).to(device)\r\n",
        "loss_adv_24 = criterion(model(x_adv_tensor), y_label_tensor)\r\n",
        "ls24 = loss_adv_24.cpu().clone().detach().numpy()\r\n",
        "ls22 = loss_adv_2.cpu().clone().detach().numpy()\r\n",
        "loss_ratios.append(ls24/ls22)\r\n",
        "\r\n",
        "# calculate err(adv2, T4)/err(adv2, T2)\r\n",
        "adv_predictions_24 = classifier.predict(x_train_adv_2)\r\n",
        "err_adv_24 = np.sum(np.argmax(adv_predictions_24, axis=1) != np.argmax(y_train, axis=1))\r\n",
        "err_ratios.append(err_adv_24/err_adv_2)\r\n",
        "\r\n",
        "# calculate loss(adv3, T4)/loss(adv3, T3)\r\n",
        "x_adv_tensor = torch.from_numpy(x_train_adv_3).to(device)\r\n",
        "loss_adv_34 = criterion(model(x_adv_tensor), y_label_tensor)\r\n",
        "ls34 = loss_adv_34.cpu().clone().detach().numpy()\r\n",
        "ls33 = loss_adv_3.cpu().clone().detach().numpy()\r\n",
        "loss_ratios.append(ls34/ls33)\r\n",
        "\r\n",
        "# calculate err(adv3, T4)/err(adv3, T3)\r\n",
        "adv_predictions_34 = classifier.predict(x_train_adv_3)\r\n",
        "err_adv_34 = np.sum(np.argmax(adv_predictions_34, axis=1) != np.argmax(y_train, axis=1))\r\n",
        "err_ratios.append(err_adv_34/err_adv_3)\r\n",
        "\r\n"
      ],
      "execution_count": null,
      "outputs": []
    },
    {
      "cell_type": "code",
      "metadata": {
        "id": "Bb2Zr2zci1OE",
        "colab": {
          "base_uri": "https://localhost:8080/"
        },
        "outputId": "c7a567d4-baf8-4a3c-c7b0-4bb2d67f0a51"
      },
      "source": [
        "print(\"loss_trans:\\t\", loss_ratios)\r\n",
        "print(\"err_trans:\\t\", err_ratios)"
      ],
      "execution_count": null,
      "outputs": [
        {
          "output_type": "stream",
          "text": [
            "loss_trans:\t [1.0919508, 1.1078461, 5.1655426]\n",
            "err_trans:\t [1.081039755351682, 1.1045343469997284, 5.048212133386903]\n"
          ],
          "name": "stdout"
        }
      ]
    },
    {
      "cell_type": "code",
      "metadata": {
        "colab": {
          "base_uri": "https://localhost:8080/"
        },
        "id": "h_-XNzIdnoMj",
        "outputId": "16e8adf8-7b25-4d31-900f-2fa5d097e35b"
      },
      "source": [
        "loss_trans = []\r\n",
        "err_trans = []\r\n",
        "for i in range(len(loss_ratios)):\r\n",
        "  loss_trans.append(1/loss_ratios[i])\r\n",
        "  err_trans.append(1/err_ratios[i])\r\n",
        "\r\n",
        "print(\"loss_trans:\\t\", loss_trans)\r\n",
        "print(\"err_trans:\\t\", err_trans) "
      ],
      "execution_count": null,
      "outputs": [
        {
          "output_type": "stream",
          "text": [
            "loss_trans:\t [0.915792198360973, 0.9026524199672301, 0.19359050480165657]\n",
            "err_trans:\t [0.925035360678925, 0.9053588987217306, 0.19808993235177078]\n"
          ],
          "name": "stdout"
        }
      ]
    },
    {
      "cell_type": "code",
      "metadata": {
        "colab": {
          "base_uri": "https://localhost:8080/",
          "height": 281
        },
        "id": "l2bsaWebrSYC",
        "outputId": "423ee435-2c64-4b85-fd89-1c816a287f3c"
      },
      "source": [
        "ind = np.arange(len(loss_trans))  # the x locations for the groups\r\n",
        "width = 0.35  # the width of the bars\r\n",
        "\r\n",
        "fig, ax = plt.subplots()\r\n",
        "rects1 = ax.bar(ind - width/2, loss_trans, width, label='loss')\r\n",
        "rects2 = ax.bar(ind + width/2, err_trans, width, label='error rate')\r\n",
        "\r\n",
        "# Add some text for labels, title and custom x-axis tick labels, etc.\r\n",
        "ax.set_ylabel('transferability')\r\n",
        "ax.set_title('Adversarial Examples On Final Model')\r\n",
        "ax.set_xticks(ind)\r\n",
        "ax.set_xticklabels(('T1', 'T2', 'T3'))\r\n",
        "ax.legend()\r\n",
        "\r\n",
        "fig.savefig('AdversarialExamplesOnFinalModel.jpg')"
      ],
      "execution_count": null,
      "outputs": [
        {
          "output_type": "display_data",
          "data": {
            "image/png": "[encoded data removed]",
            "text/plain": [
              "<Figure size 432x288 with 1 Axes>"
            ]
          },
          "metadata": {
            "tags": [],
            "needs_background": "light"
          }
        }
      ]
    }
  ]
}